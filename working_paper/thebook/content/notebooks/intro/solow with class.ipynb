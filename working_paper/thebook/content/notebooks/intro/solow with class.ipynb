{
 "cells": [
  {
   "cell_type": "markdown",
   "id": "9f2e2785",
   "metadata": {
    "slideshow": {
     "slide_type": "slide"
    }
   },
   "source": [
    "# Example Solow model \n",
    "\n",
    "\n",
    "In this jupyter notebook we will specify, solve and analyse a simple Solow model in ModelFlow. \n",
    "    "
   ]
  },
  {
   "cell_type": "code",
   "execution_count": 94,
   "id": "e7c70d96",
   "metadata": {
    "slideshow": {
     "slide_type": "slide"
    }
   },
   "outputs": [
    {
     "data": {
      "text/html": [
       "\n",
       "        <style>\n",
       "            div#notebook-container    { width: 95%; }\n",
       "            div#menubar-container     { width: 65%; }\n",
       "            div#maintoolbar-container { width: 99%; }\n",
       "        </style>\n",
       "        "
      ],
      "text/plain": [
       "<IPython.core.display.HTML object>"
      ]
     },
     "metadata": {},
     "output_type": "display_data"
    }
   ],
   "source": [
    "#Required packages\n",
    "import pandas as pd\n",
    "\n",
    "# Modelflow modules\n",
    "from modelclass import model\n",
    "   \n",
    "#for publication \n",
    "latex=0\n",
    "model.widescreen()"
   ]
  },
  {
   "cell_type": "markdown",
   "id": "b6b5050f",
   "metadata": {
    "slideshow": {
     "slide_type": "slide"
    }
   },
   "source": [
    "\n",
    "## Specify the model \n",
    "We start by defining the logic of the Solow model in the Business Logic Language.   \n",
    "\n"
   ]
  },
  {
   "cell_type": "code",
   "execution_count": 95,
   "id": "bd727901",
   "metadata": {},
   "outputs": [
    {
     "data": {
      "text/plain": [
       "(104.060401, 208.120802, 100)"
      ]
     },
     "execution_count": 95,
     "metadata": {},
     "output_type": "execute_result"
    }
   ],
   "source": [
    "from dataclasses import dataclass, field\n",
    "\n",
    "@dataclass \n",
    "\n",
    "class fftpoc():\n",
    "    '''A  silly class which is initialiced and contains a functionwhich can be called from modelflow.\n",
    "    in FTT context it should initialize the FTT model and define functions which can be called. \n",
    "    '''    \n",
    "    \n",
    "    base_price_coal : float =  100 \n",
    "    base_price_oil  : float =  200 \n",
    "    base_year       : int   = 2019 \n",
    "    pricegrowth     : float =  0.01 \n",
    "        \n",
    "    def get_prices(self,year,labor=100):\n",
    "        current_price_coal = self.base_price_coal* (1+self.pricegrowth)**(year-self.base_year) \n",
    "        current_price_oil  = self.base_price_oil * (1+self.pricegrowth)**(year-self.base_year) \n",
    "        return current_price_coal, current_price_oil,labor \n",
    "        \n",
    "this_instance = fftpoc()   # make an instance \n",
    "\n",
    "get_prices =  this_instance.get_prices   # Fefine a function which can be included in the modelflow business languiage. \n",
    "get_prices(2023) # test that we get a number "
   ]
  },
  {
   "cell_type": "code",
   "execution_count": 96,
   "id": "e762ae7e",
   "metadata": {},
   "outputs": [
    {
     "data": {
      "text/plain": [
       "fftpoc(base_price_coal=100, base_price_oil=200, base_year=2019, pricegrowth=0.01)"
      ]
     },
     "execution_count": 96,
     "metadata": {},
     "output_type": "execute_result"
    }
   ],
   "source": [
    "this_instance"
   ]
  },
  {
   "cell_type": "code",
   "execution_count": 97,
   "id": "8bed6ee0",
   "metadata": {},
   "outputs": [],
   "source": [
    "def labor_dif(growth,last):\n",
    "    return growth*last"
   ]
  },
  {
   "cell_type": "code",
   "execution_count": 98,
   "id": "5b016687",
   "metadata": {},
   "outputs": [],
   "source": [
    "def answer(growth):\n",
    "    return 42,34"
   ]
  },
  {
   "cell_type": "code",
   "execution_count": 99,
   "id": "a1dd5bf9",
   "metadata": {
    "slideshow": {
     "slide_type": "fragment"
    }
   },
   "outputs": [],
   "source": [
    "\n",
    "fsolow2 = '''\\\n",
    "Income          = a  * Capital**alfa * Labor **(1-alfa) \n",
    "Consumption     = (1-saving_rate)  * Income \n",
    "Investment      = Income - Consumption   \n",
    "diff(Capital)   = Investment-Depreciation_rate * Capital(-1)\n",
    "diff(Labor)     = labor_dif(Labor_growth,Labor(-1))  \n",
    "Capital_intensity = Capital/Labor \n",
    "ibh,b = answer(Labor_growth)\n",
    "horse =  ibh *b \n",
    "coal_price, oil_price, extralabor = get_prices(year,labor)\n",
    "'''"
   ]
  },
  {
   "cell_type": "markdown",
   "id": "6ab7bf46",
   "metadata": {
    "slideshow": {
     "slide_type": "slide"
    }
   },
   "source": [
    "## Create a model class instance\n",
    "\n",
    "After defining the Business Logic Language and storing it in the variable 'fsolow', we create a class instance called msolow. "
   ]
  },
  {
   "cell_type": "code",
   "execution_count": 100,
   "id": "67f4a348",
   "metadata": {
    "slideshow": {
     "slide_type": "fragment"
    }
   },
   "outputs": [],
   "source": [
    "msolow = model.from_eq(fsolow2,modelname='Solow model',funks=[labor_dif,answer,get_prices])"
   ]
  },
  {
   "cell_type": "code",
   "execution_count": 101,
   "id": "62242f27",
   "metadata": {
    "slideshow": {
     "slide_type": "slide"
    }
   },
   "outputs": [
    {
     "name": "stdout",
     "output_type": "stream",
     "text": [
      "FRML <> INCOME          = A  * CAPITAL**ALFA * LABOR **(1-ALFA)  $\n",
      "FRML <> CONSUMPTION     = (1-SAVING_RATE)  * INCOME  $\n",
      "FRML <> INVESTMENT      = INCOME - CONSUMPTION    $\n",
      "FRML <> CAPITAL=CAPITAL(-1)+(INVESTMENT-DEPRECIATION_RATE * CAPITAL(-1))$\n",
      "FRML <> LABOR=LABOR(-1)+(LABOR_DIF(LABOR_GROWTH,LABOR(-1)))$\n",
      "FRML <> CAPITAL_INTENSITY = CAPITAL/LABOR  $\n",
      "FRML <> IBH,B = ANSWER(LABOR_GROWTH) $\n",
      "FRML <> HORSE =  IBH *B  $\n",
      "FRML <> COAL_PRICE, OIL_PRICE, EXTRALABOR = GET_PRICES(YEAR,LABOR) $\n"
     ]
    }
   ],
   "source": [
    "msolow.print_model"
   ]
  },
  {
   "cell_type": "markdown",
   "id": "3e9ab796",
   "metadata": {
    "slideshow": {
     "slide_type": "slide"
    }
   },
   "source": [
    "## Create some data \n",
    "\n",
    "To show what Modelflow can do, we create a Pandas dataframe with input data. And print the first 5 out of 300 observations.  "
   ]
  },
  {
   "cell_type": "code",
   "execution_count": 102,
   "id": "286fe002",
   "metadata": {
    "slideshow": {
     "slide_type": "fragment"
    }
   },
   "outputs": [
    {
     "data": {
      "text/html": [
       "<div>\n",
       "<style scoped>\n",
       "    .dataframe tbody tr th:only-of-type {\n",
       "        vertical-align: middle;\n",
       "    }\n",
       "\n",
       "    .dataframe tbody tr th {\n",
       "        vertical-align: top;\n",
       "    }\n",
       "\n",
       "    .dataframe thead th {\n",
       "        text-align: right;\n",
       "    }\n",
       "</style>\n",
       "<table border=\"1\" class=\"dataframe\">\n",
       "  <thead>\n",
       "    <tr style=\"text-align: right;\">\n",
       "      <th></th>\n",
       "      <th>LABOR</th>\n",
       "      <th>CAPITAL</th>\n",
       "      <th>ALFA</th>\n",
       "      <th>A</th>\n",
       "      <th>DEPRECIATION_RATE</th>\n",
       "      <th>LABOR_GROWTH</th>\n",
       "      <th>SAVING_RATE</th>\n",
       "      <th>YEAR</th>\n",
       "    </tr>\n",
       "  </thead>\n",
       "  <tbody>\n",
       "    <tr>\n",
       "      <th>0</th>\n",
       "      <td>100</td>\n",
       "      <td>100</td>\n",
       "      <td>0.5</td>\n",
       "      <td>1</td>\n",
       "      <td>0.05</td>\n",
       "      <td>0.01</td>\n",
       "      <td>0.05</td>\n",
       "      <td>2020</td>\n",
       "    </tr>\n",
       "    <tr>\n",
       "      <th>1</th>\n",
       "      <td>100</td>\n",
       "      <td>100</td>\n",
       "      <td>0.5</td>\n",
       "      <td>1</td>\n",
       "      <td>0.05</td>\n",
       "      <td>0.01</td>\n",
       "      <td>0.05</td>\n",
       "      <td>2021</td>\n",
       "    </tr>\n",
       "  </tbody>\n",
       "</table>\n",
       "</div>"
      ],
      "text/plain": [
       "   LABOR  CAPITAL  ALFA  A  DEPRECIATION_RATE  LABOR_GROWTH  SAVING_RATE  YEAR\n",
       "0    100      100   0.5  1               0.05          0.01         0.05  2020\n",
       "1    100      100   0.5  1               0.05          0.01         0.05  2021"
      ]
     },
     "execution_count": 102,
     "metadata": {},
     "output_type": "execute_result"
    }
   ],
   "source": [
    "N = 300  \n",
    "df = pd.DataFrame({'LABOR':[100]*N,\n",
    "                   'CAPITAL':[100]*N, \n",
    "                   'ALFA':[0.5]*N, \n",
    "                   'A': [1]*N, \n",
    "                   'DEPRECIATION_RATE': [0.05]*N, \n",
    "                   'LABOR_GROWTH': [0.01]*N, \n",
    "                   'SAVING_RATE':[0.05]*N,\n",
    "                   'YEAR': [2020 + i for i in range(N)] })\n",
    "df.head(2) #this prints out the first 5 rows of the dataframe"
   ]
  },
  {
   "cell_type": "markdown",
   "id": "4e86e552",
   "metadata": {
    "slideshow": {
     "slide_type": "slide"
    }
   },
   "source": [
    "## Run the model "
   ]
  },
  {
   "cell_type": "code",
   "execution_count": 103,
   "id": "dfc57421",
   "metadata": {
    "scrolled": false
   },
   "outputs": [
    {
     "data": {
      "text/html": [
       "<div>\n",
       "<style scoped>\n",
       "    .dataframe tbody tr th:only-of-type {\n",
       "        vertical-align: middle;\n",
       "    }\n",
       "\n",
       "    .dataframe tbody tr th {\n",
       "        vertical-align: top;\n",
       "    }\n",
       "\n",
       "    .dataframe thead th {\n",
       "        text-align: right;\n",
       "    }\n",
       "</style>\n",
       "<table border=\"1\" class=\"dataframe\">\n",
       "  <thead>\n",
       "    <tr style=\"text-align: right;\">\n",
       "      <th></th>\n",
       "      <th>LABOR</th>\n",
       "      <th>CAPITAL</th>\n",
       "      <th>ALFA</th>\n",
       "      <th>A</th>\n",
       "      <th>DEPRECIATION_RATE</th>\n",
       "      <th>LABOR_GROWTH</th>\n",
       "      <th>SAVING_RATE</th>\n",
       "      <th>YEAR</th>\n",
       "      <th>INCOME</th>\n",
       "      <th>EXTRALABOR</th>\n",
       "      <th>CAPITAL_INTENSITY</th>\n",
       "      <th>HORSE</th>\n",
       "      <th>INVESTMENT</th>\n",
       "      <th>COAL_PRICE</th>\n",
       "      <th>OIL_PRICE</th>\n",
       "      <th>B</th>\n",
       "      <th>IBH</th>\n",
       "      <th>CONSUMPTION</th>\n",
       "    </tr>\n",
       "  </thead>\n",
       "  <tbody>\n",
       "    <tr>\n",
       "      <th>0</th>\n",
       "      <td>100.000000</td>\n",
       "      <td>100.000000</td>\n",
       "      <td>0.5</td>\n",
       "      <td>1.0</td>\n",
       "      <td>0.05</td>\n",
       "      <td>0.01</td>\n",
       "      <td>0.05</td>\n",
       "      <td>2020.0</td>\n",
       "      <td>0.000000</td>\n",
       "      <td>0.000000</td>\n",
       "      <td>0.000000</td>\n",
       "      <td>0.0</td>\n",
       "      <td>0.000000</td>\n",
       "      <td>0.000000</td>\n",
       "      <td>0.000000</td>\n",
       "      <td>0.0</td>\n",
       "      <td>0.0</td>\n",
       "      <td>0.000000</td>\n",
       "    </tr>\n",
       "    <tr>\n",
       "      <th>1</th>\n",
       "      <td>101.000000</td>\n",
       "      <td>100.025580</td>\n",
       "      <td>0.5</td>\n",
       "      <td>1.0</td>\n",
       "      <td>0.05</td>\n",
       "      <td>0.01</td>\n",
       "      <td>0.05</td>\n",
       "      <td>2021.0</td>\n",
       "      <td>100.511609</td>\n",
       "      <td>101.000000</td>\n",
       "      <td>0.990352</td>\n",
       "      <td>1428.0</td>\n",
       "      <td>5.025580</td>\n",
       "      <td>102.010000</td>\n",
       "      <td>204.020000</td>\n",
       "      <td>34.0</td>\n",
       "      <td>42.0</td>\n",
       "      <td>95.486029</td>\n",
       "    </tr>\n",
       "    <tr>\n",
       "      <th>2</th>\n",
       "      <td>102.010000</td>\n",
       "      <td>100.076226</td>\n",
       "      <td>0.5</td>\n",
       "      <td>1.0</td>\n",
       "      <td>0.05</td>\n",
       "      <td>0.01</td>\n",
       "      <td>0.05</td>\n",
       "      <td>2022.0</td>\n",
       "      <td>101.038487</td>\n",
       "      <td>102.010000</td>\n",
       "      <td>0.981043</td>\n",
       "      <td>1428.0</td>\n",
       "      <td>5.051924</td>\n",
       "      <td>103.030100</td>\n",
       "      <td>206.060200</td>\n",
       "      <td>34.0</td>\n",
       "      <td>42.0</td>\n",
       "      <td>95.986562</td>\n",
       "    </tr>\n",
       "    <tr>\n",
       "      <th>3</th>\n",
       "      <td>103.030100</td>\n",
       "      <td>100.151443</td>\n",
       "      <td>0.5</td>\n",
       "      <td>1.0</td>\n",
       "      <td>0.05</td>\n",
       "      <td>0.01</td>\n",
       "      <td>0.05</td>\n",
       "      <td>2023.0</td>\n",
       "      <td>101.580575</td>\n",
       "      <td>103.030100</td>\n",
       "      <td>0.972060</td>\n",
       "      <td>1428.0</td>\n",
       "      <td>5.079029</td>\n",
       "      <td>104.060401</td>\n",
       "      <td>208.120802</td>\n",
       "      <td>34.0</td>\n",
       "      <td>42.0</td>\n",
       "      <td>96.501546</td>\n",
       "    </tr>\n",
       "    <tr>\n",
       "      <th>4</th>\n",
       "      <td>104.060401</td>\n",
       "      <td>100.250762</td>\n",
       "      <td>0.5</td>\n",
       "      <td>1.0</td>\n",
       "      <td>0.05</td>\n",
       "      <td>0.01</td>\n",
       "      <td>0.05</td>\n",
       "      <td>2024.0</td>\n",
       "      <td>102.137821</td>\n",
       "      <td>104.060401</td>\n",
       "      <td>0.963390</td>\n",
       "      <td>1428.0</td>\n",
       "      <td>5.106891</td>\n",
       "      <td>105.101005</td>\n",
       "      <td>210.202010</td>\n",
       "      <td>34.0</td>\n",
       "      <td>42.0</td>\n",
       "      <td>97.030930</td>\n",
       "    </tr>\n",
       "  </tbody>\n",
       "</table>\n",
       "</div>"
      ],
      "text/plain": [
       "        LABOR     CAPITAL  ALFA    A  DEPRECIATION_RATE  LABOR_GROWTH  \\\n",
       "0  100.000000  100.000000   0.5  1.0               0.05          0.01   \n",
       "1  101.000000  100.025580   0.5  1.0               0.05          0.01   \n",
       "2  102.010000  100.076226   0.5  1.0               0.05          0.01   \n",
       "3  103.030100  100.151443   0.5  1.0               0.05          0.01   \n",
       "4  104.060401  100.250762   0.5  1.0               0.05          0.01   \n",
       "\n",
       "   SAVING_RATE    YEAR      INCOME  EXTRALABOR  CAPITAL_INTENSITY   HORSE  \\\n",
       "0         0.05  2020.0    0.000000    0.000000           0.000000     0.0   \n",
       "1         0.05  2021.0  100.511609  101.000000           0.990352  1428.0   \n",
       "2         0.05  2022.0  101.038487  102.010000           0.981043  1428.0   \n",
       "3         0.05  2023.0  101.580575  103.030100           0.972060  1428.0   \n",
       "4         0.05  2024.0  102.137821  104.060401           0.963390  1428.0   \n",
       "\n",
       "   INVESTMENT  COAL_PRICE   OIL_PRICE     B   IBH  CONSUMPTION  \n",
       "0    0.000000    0.000000    0.000000   0.0   0.0     0.000000  \n",
       "1    5.025580  102.010000  204.020000  34.0  42.0    95.486029  \n",
       "2    5.051924  103.030100  206.060200  34.0  42.0    95.986562  \n",
       "3    5.079029  104.060401  208.120802  34.0  42.0    96.501546  \n",
       "4    5.106891  105.101005  210.202010  34.0  42.0    97.030930  "
      ]
     },
     "execution_count": 103,
     "metadata": {},
     "output_type": "execute_result"
    }
   ],
   "source": [
    "result = msolow(df,keep='Baseline') # The model is simulated for all years possible \n",
    "result.head(5)"
   ]
  },
  {
   "cell_type": "markdown",
   "id": "71b35854",
   "metadata": {
    "slideshow": {
     "slide_type": "slide"
    }
   },
   "source": [
    "## Create a scenario and run again "
   ]
  },
  {
   "cell_type": "markdown",
   "id": "c213cb44",
   "metadata": {
    "slideshow": {
     "slide_type": "skip"
    }
   },
   "source": [
    ":::{margin} **dataframe.upd**\n",
    "When importing modelclass all pandas dataframes are enriched with a a handy way to create a new pandas dataframe with updated series. \n",
    "\n",
    "In this case df.upd will create a a new dataframe with updated LABOR_GROWTH \n",
    "\n",
    "For additional explanation look [here](../../howto/update/model%20update.ipynb)\n",
    ":::"
   ]
  },
  {
   "cell_type": "code",
   "execution_count": 104,
   "id": "635b1c17",
   "metadata": {
    "slideshow": {
     "slide_type": "fragment"
    }
   },
   "outputs": [],
   "source": [
    "dfscenario = df.upd('LABOR_GROWTH + 0.002')  # create a new dataframe, increase LABOR_GROWTH by 0.002\n",
    "scenario   = msolow(dfscenario,keep='Higher labor growth ') # simulate the model "
   ]
  },
  {
   "cell_type": "markdown",
   "id": "93220ba9",
   "metadata": {
    "slideshow": {
     "slide_type": "slide"
    }
   },
   "source": [
    "## Now the results are also embedded in msolow.  \n",
    "\n",
    "\n",
    " - ```.basedf``` contains the first run of the model \n",
    " - ```.lastdf``` contains the last run of the model \n",
    " \n",
    " Also in this case the keyword ```keep``` is used. This causes the results to be  stored in a dictionary ```msolow.keep_solutions```. This can be useful when comparing several scenarios. \n",
    " "
   ]
  },
  {
   "cell_type": "markdown",
   "id": "286a2013",
   "metadata": {
    "slideshow": {
     "slide_type": "slide"
    }
   },
   "source": [
    "## Inspect results  "
   ]
  },
  {
   "cell_type": "markdown",
   "id": "97c89420",
   "metadata": {
    "slideshow": {
     "slide_type": "fragment"
    }
   },
   "source": [
    "### Using the [ ] operator "
   ]
  },
  {
   "cell_type": "markdown",
   "id": "b8919dd3",
   "metadata": {
    "slideshow": {
     "slide_type": "fragment"
    }
   },
   "source": [
    "We can select the variables of interest with wildcards. This will operate the results stored in ```basedf``` and ```.lastdf```"
   ]
  },
  {
   "cell_type": "markdown",
   "id": "6d08b713",
   "metadata": {
    "slideshow": {
     "slide_type": "skip"
    }
   },
   "source": [
    "#### Look at all endogenous variables"
   ]
  },
  {
   "cell_type": "markdown",
   "id": "c9480e97",
   "metadata": {
    "slideshow": {
     "slide_type": "subslide"
    }
   },
   "source": [
    "### The logical stucture \n",
    "Now the model has been analyzed, and the structure can be displayed.\n",
    "\n",
    "You will find more on the logical structure [here](../../howto/structure/Logical_structure.ipynb)"
   ]
  },
  {
   "cell_type": "markdown",
   "id": "a5f71ad7",
   "metadata": {
    "slideshow": {
     "slide_type": "slide"
    }
   },
   "source": [
    "#### Model structure"
   ]
  },
  {
   "cell_type": "code",
   "execution_count": 105,
   "id": "15f19d5c",
   "metadata": {
    "scrolled": false,
    "slideshow": {
     "slide_type": "fragment"
    }
   },
   "outputs": [
    {
     "data": {
      "image/svg+xml": [
       "<svg xmlns=\"http://www.w3.org/2000/svg\" xmlns:xlink=\"http://www.w3.org/1999/xlink\" width=\"1034pt\" height=\"475pt\" viewBox=\"0.00 0.00 1034.00 475.00\">\n",
       "<g id=\"graph0\" class=\"graph\" transform=\"scale(1 1) rotate(0) translate(4 471)\">\n",
       "<title>TD</title>\n",
       "<polygon fill=\"white\" stroke=\"none\" points=\"-4,4 -4,-471 1030,-471 1030,4 -4,4\"/>\n",
       "<text text-anchor=\"middle\" x=\"513\" y=\"-7.8\" font-family=\"Times New Roman,serif\" font-size=\"14.00\">Model Structure</text>\n",
       "<!-- CAPITAL_INTENSITY -->\n",
       "<g id=\"node1\" class=\"node\">\n",
       "<title>CAPITAL_INTENSITY</title>\n",
       "<g id=\"a_node1\"><a xlink:title=\"CAPITAL_INTENSITY\n",
       "FRML &lt;&gt; CAPITAL_INTENSITY = CAPITAL/LABOR  $\">\n",
       "<polygon fill=\"#63b8ff\" stroke=\"black\" points=\"1026,-317 877,-317 877,-281 1026,-281 1026,-317\"/>\n",
       "<text text-anchor=\"start\" x=\"883.5\" y=\"-294.8\" font-family=\"Times New Roman,serif\" font-size=\"14.00\" fill=\"blue\">CAPITAL_INTENSITY:</text>\n",
       "</a>\n",
       "</g>\n",
       "</g>\n",
       "<!-- LABOR -->\n",
       "<g id=\"node2\" class=\"node\">\n",
       "<title>LABOR</title>\n",
       "<g id=\"a_node2\"><a xlink:title=\"LABOR\n",
       "FRML &lt;&gt; LABOR=LABOR(-1)+(LABOR_DIF(LABOR_GROWTH,LABOR(-1)))$\">\n",
       "<polygon fill=\"#63b8ff\" stroke=\"black\" points=\"227,-244 165,-244 165,-208 227,-208 227,-244\"/>\n",
       "<text text-anchor=\"start\" x=\"171\" y=\"-221.8\" font-family=\"Times New Roman,serif\" font-size=\"14.00\" fill=\"blue\">LABOR:</text>\n",
       "</a>\n",
       "</g>\n",
       "</g>\n",
       "<!-- LABOR&#45;&gt;CAPITAL_INTENSITY -->\n",
       "<g id=\"edge11\" class=\"edge\">\n",
       "<title>LABOR-&gt;CAPITAL_INTENSITY</title>\n",
       "<g id=\"a_edge11\"><a xlink:href=\"bogus\" xlink:title=\" LABOR -&gt; CAPITAL_INTENSITY Min. att. 103%  max: 1269%\">\n",
       "<path fill=\"none\" stroke=\"black\" stroke-width=\"8\" d=\"M227.05,-230.01C279.15,-236.6 389.69,-249 483.5,-249 483.5,-249 483.5,-249 656,-249 730.52,-249 814.16,-264.75 873.21,-278.57\"/>\n",
       "<polygon fill=\"black\" stroke=\"black\" stroke-width=\"8\" points=\"871.86,-285.45 883.21,-280.95 875.1,-271.83 871.86,-285.45\"/>\n",
       "</a>\n",
       "</g>\n",
       "</g>\n",
       "<!-- EXTRALABOR -->\n",
       "<g id=\"node9\" class=\"node\">\n",
       "<title>EXTRALABOR</title>\n",
       "<g id=\"a_node9\"><a xlink:title=\"EXTRALABOR\n",
       "FRML &lt;&gt; COAL_PRICE, OIL_PRICE, EXTRALABOR = GET_PRICES(YEAR,LABOR) $\">\n",
       "<polygon fill=\"#63b8ff\" stroke=\"black\" points=\"380.5,-167 273.5,-167 273.5,-131 380.5,-131 380.5,-167\"/>\n",
       "<text text-anchor=\"start\" x=\"280\" y=\"-144.8\" font-family=\"Times New Roman,serif\" font-size=\"14.00\" fill=\"blue\">EXTRALABOR:</text>\n",
       "</a>\n",
       "</g>\n",
       "</g>\n",
       "<!-- LABOR&#45;&gt;EXTRALABOR -->\n",
       "<g id=\"edge2\" class=\"edge\">\n",
       "<title>LABOR-&gt;EXTRALABOR</title>\n",
       "<g id=\"a_edge2\"><a xlink:href=\"bogus\" xlink:title=\" LABOR -&gt; EXTRALABOR Min. att. 100%  max: 100%\">\n",
       "<path fill=\"none\" stroke=\"black\" stroke-width=\"8\" d=\"M218.07,-207.94C230.59,-197.75 247.09,-185.25 263,-176 265.64,-174.46 268.39,-172.97 271.19,-171.51\"/>\n",
       "<polygon fill=\"black\" stroke=\"black\" stroke-width=\"8\" points=\"274.4,-177.73 280.27,-167.03 268.2,-165.18 274.4,-177.73\"/>\n",
       "</a>\n",
       "</g>\n",
       "</g>\n",
       "<!-- INCOME -->\n",
       "<g id=\"node14\" class=\"node\">\n",
       "<title>INCOME</title>\n",
       "<g id=\"a_node14\"><a xlink:title=\"INCOME\n",
       "FRML &lt;&gt; INCOME          = A  * CAPITAL**ALFA * LABOR **(1-ALFA)  $\">\n",
       "<polygon fill=\"#63b8ff\" stroke=\"black\" points=\"362,-421 292,-421 292,-385 362,-385 362,-421\"/>\n",
       "<text text-anchor=\"start\" x=\"298\" y=\"-398.8\" font-family=\"Times New Roman,serif\" font-size=\"14.00\" fill=\"blue\">INCOME:</text>\n",
       "</a>\n",
       "</g>\n",
       "</g>\n",
       "<!-- LABOR&#45;&gt;INCOME -->\n",
       "<g id=\"edge24\" class=\"edge\">\n",
       "<title>LABOR-&gt;INCOME</title>\n",
       "<g id=\"a_edge24\"><a xlink:href=\"bogus\" xlink:title=\" LABOR -&gt; INCOME Min. att. 59%  max: 97%\">\n",
       "<path fill=\"none\" stroke=\"black\" stroke-width=\"8\" d=\"M200.45,-244.16C207.22,-275.11 225,-338.36 263,-376 268.59,-381.53 275.49,-386.01 282.65,-389.61\"/>\n",
       "<polygon fill=\"black\" stroke=\"black\" stroke-width=\"8\" points=\"279.8,-396 291.79,-393.7 285.53,-383.23 279.8,-396\"/>\n",
       "</a>\n",
       "</g>\n",
       "</g>\n",
       "<!-- COAL_PRICE -->\n",
       "<g id=\"node15\" class=\"node\">\n",
       "<title>COAL_PRICE</title>\n",
       "<g id=\"a_node15\"><a xlink:title=\"COAL_PRICE\n",
       "FRML &lt;&gt; COAL_PRICE, OIL_PRICE, EXTRALABOR = GET_PRICES(YEAR,LABOR) $\">\n",
       "<polygon fill=\"#63b8ff\" stroke=\"black\" points=\"376,-113 278,-113 278,-77 376,-77 376,-113\"/>\n",
       "<text text-anchor=\"start\" x=\"284\" y=\"-90.8\" font-family=\"Times New Roman,serif\" font-size=\"14.00\" fill=\"blue\">COAL_PRICE:</text>\n",
       "</a>\n",
       "</g>\n",
       "</g>\n",
       "<!-- LABOR&#45;&gt;COAL_PRICE -->\n",
       "<g id=\"edge1\" class=\"edge\">\n",
       "<title>LABOR-&gt;COAL_PRICE</title>\n",
       "<g id=\"a_edge1\"><a xlink:href=\"bogus\" xlink:title=\" LABOR -&gt; COAL_PRICE Min. att. 0%  max: 0%\">\n",
       "<path fill=\"none\" stroke=\"black\" d=\"M208.26,-207.65C226.09,-178.66 259.21,-125.22 263,-122 264.94,-120.35 267,-118.78 269.14,-117.3\"/>\n",
       "<polygon fill=\"black\" stroke=\"black\" points=\"271.07,-120.22 277.75,-112 267.4,-114.26 271.07,-120.22\"/>\n",
       "</a>\n",
       "</g>\n",
       "</g>\n",
       "<!-- LABOR(&#45;1) -->\n",
       "<g id=\"node16\" class=\"node\">\n",
       "<title>LABOR(-1)</title>\n",
       "<g id=\"a_node16\"><a xlink:title=\"LABOR\n",
       "FRML &lt;&gt; LABOR=LABOR(-1)+(LABOR_DIF(LABOR_GROWTH,LABOR(-1)))$\">\n",
       "<polygon fill=\"springgreen\" stroke=\"black\" points=\"391,-367 263,-367 263,-331 391,-331 391,-367\"/>\n",
       "<text text-anchor=\"start\" x=\"269\" y=\"-344.8\" font-family=\"Times New Roman,serif\" font-size=\"14.00\" fill=\"blue\">LABOR(-1):LABOR</text>\n",
       "</a>\n",
       "</g>\n",
       "</g>\n",
       "<!-- LABOR&#45;&gt;LABOR(&#45;1) -->\n",
       "<g id=\"edge22\" class=\"edge\">\n",
       "<title>LABOR-&gt;LABOR(-1)</title>\n",
       "<g id=\"a_edge22\"><a xlink:href=\"bogus\" xlink:title=\" LABOR -&gt; LABOR(-1) Min. att. 0%  max: 100%\">\n",
       "<path fill=\"none\" stroke=\"black\" stroke-width=\"8\" d=\"M209.28,-244.28C220.66,-263.72 239.38,-293.64 263,-313 269.55,-318.37 277.32,-322.84 285.14,-326.69\"/>\n",
       "<polygon fill=\"black\" stroke=\"black\" stroke-width=\"8\" points=\"282.24,-333.06 294.26,-330.94 288.15,-320.37 282.24,-333.06\"/>\n",
       "</a>\n",
       "</g>\n",
       "</g>\n",
       "<!-- OIL_PRICE -->\n",
       "<g id=\"node17\" class=\"node\">\n",
       "<title>OIL_PRICE</title>\n",
       "<g id=\"a_node17\"><a xlink:title=\"OIL_PRICE\n",
       "FRML &lt;&gt; COAL_PRICE, OIL_PRICE, EXTRALABOR = GET_PRICES(YEAR,LABOR) $\">\n",
       "<polygon fill=\"#63b8ff\" stroke=\"black\" points=\"369,-221 285,-221 285,-185 369,-185 369,-221\"/>\n",
       "<text text-anchor=\"start\" x=\"291\" y=\"-198.8\" font-family=\"Times New Roman,serif\" font-size=\"14.00\" fill=\"blue\">OIL_PRICE:</text>\n",
       "</a>\n",
       "</g>\n",
       "</g>\n",
       "<!-- LABOR&#45;&gt;OIL_PRICE -->\n",
       "<g id=\"edge25\" class=\"edge\">\n",
       "<title>LABOR-&gt;OIL_PRICE</title>\n",
       "<g id=\"a_edge25\"><a xlink:href=\"bogus\" xlink:title=\" LABOR -&gt; OIL_PRICE Min. att. 0%  max: 0%\">\n",
       "<path fill=\"none\" stroke=\"black\" d=\"M227.24,-220.61C241.43,-218.08 258.73,-214.99 274.86,-212.12\"/>\n",
       "<polygon fill=\"black\" stroke=\"black\" points=\"275.48,-215.56 284.71,-210.36 274.25,-208.67 275.48,-215.56\"/>\n",
       "</a>\n",
       "</g>\n",
       "</g>\n",
       "<!-- HORSE -->\n",
       "<g id=\"node3\" class=\"node\">\n",
       "<title>HORSE</title>\n",
       "<g id=\"a_node3\"><a xlink:title=\"HORSE\n",
       "FRML &lt;&gt; HORSE =  IBH *B  $\">\n",
       "<polygon fill=\"#63b8ff\" stroke=\"black\" points=\"357.5,-59 296.5,-59 296.5,-23 357.5,-23 357.5,-59\"/>\n",
       "<text text-anchor=\"start\" x=\"303\" y=\"-36.8\" font-family=\"Times New Roman,serif\" font-size=\"14.00\" fill=\"blue\">HORSE:</text>\n",
       "</a>\n",
       "</g>\n",
       "</g>\n",
       "<!-- DEPRECIATION_RATE -->\n",
       "<g id=\"node4\" class=\"node\">\n",
       "<title>DEPRECIATION_RATE</title>\n",
       "<g id=\"a_node4\"><a xlink:title=\"DEPRECIATION_RATE\n",
       "Exogen\">\n",
       "<polygon fill=\"yellow\" stroke=\"black\" points=\"732,-467 578,-467 578,-431 732,-431 732,-467\"/>\n",
       "<text text-anchor=\"start\" x=\"584\" y=\"-444.8\" font-family=\"Times New Roman,serif\" font-size=\"14.00\" fill=\"blue\">DEPRECIATION_RATE:</text>\n",
       "</a>\n",
       "</g>\n",
       "</g>\n",
       "<!-- CAPITAL -->\n",
       "<g id=\"node6\" class=\"node\">\n",
       "<title>CAPITAL</title>\n",
       "<g id=\"a_node6\"><a xlink:title=\"CAPITAL\n",
       "FRML &lt;&gt; CAPITAL=CAPITAL(-1)+(INVESTMENT-DEPRECIATION_RATE * CAPITAL(-1))$\">\n",
       "<polygon fill=\"#63b8ff\" stroke=\"black\" points=\"841,-398 768,-398 768,-362 841,-362 841,-398\"/>\n",
       "<text text-anchor=\"start\" x=\"774.5\" y=\"-375.8\" font-family=\"Times New Roman,serif\" font-size=\"14.00\" fill=\"blue\">CAPITAL:</text>\n",
       "</a>\n",
       "</g>\n",
       "</g>\n",
       "<!-- DEPRECIATION_RATE&#45;&gt;CAPITAL -->\n",
       "<g id=\"edge20\" class=\"edge\">\n",
       "<title>DEPRECIATION_RATE-&gt;CAPITAL</title>\n",
       "<g id=\"a_edge20\"><a xlink:href=\"bogus\" xlink:title=\" DEPRECIATION_RATE -&gt; CAPITAL Min. att. 0%  max: 0%\">\n",
       "<path fill=\"none\" stroke=\"black\" d=\"M700.47,-430.97C710.88,-426.56 721.89,-421.74 732,-417 741.5,-412.55 751.57,-407.53 761.06,-402.66\"/>\n",
       "<polygon fill=\"black\" stroke=\"black\" points=\"762.68,-405.76 769.95,-398.06 759.46,-399.55 762.68,-405.76\"/>\n",
       "</a>\n",
       "</g>\n",
       "</g>\n",
       "<!-- ALFA -->\n",
       "<g id=\"node5\" class=\"node\">\n",
       "<title>ALFA</title>\n",
       "<g id=\"a_node5\"><a xlink:title=\"ALFA\n",
       "Exogen\">\n",
       "<polygon fill=\"yellow\" stroke=\"black\" points=\"223,-448 169,-448 169,-412 223,-412 223,-448\"/>\n",
       "<text text-anchor=\"start\" x=\"177\" y=\"-425.8\" font-family=\"Times New Roman,serif\" font-size=\"14.00\" fill=\"blue\">ALFA:</text>\n",
       "</a>\n",
       "</g>\n",
       "</g>\n",
       "<!-- ALFA&#45;&gt;INCOME -->\n",
       "<g id=\"edge15\" class=\"edge\">\n",
       "<title>ALFA-&gt;INCOME</title>\n",
       "<g id=\"a_edge15\"><a xlink:href=\"bogus\" xlink:title=\" ALFA -&gt; INCOME Min. att. -0%  max: -0%\">\n",
       "<path fill=\"none\" stroke=\"black\" d=\"M223.11,-424.54C239.91,-421.02 262.17,-416.36 281.7,-412.27\"/>\n",
       "<polygon fill=\"black\" stroke=\"black\" points=\"282.54,-415.67 291.61,-410.2 281.11,-408.82 282.54,-415.67\"/>\n",
       "</a>\n",
       "</g>\n",
       "</g>\n",
       "<!-- CAPITAL&#45;&gt;CAPITAL_INTENSITY -->\n",
       "<g id=\"edge7\" class=\"edge\">\n",
       "<title>CAPITAL-&gt;CAPITAL_INTENSITY</title>\n",
       "<g id=\"a_edge7\"><a xlink:href=\"bogus\" xlink:title=\" CAPITAL -&gt; CAPITAL_INTENSITY Min. att. -647%  max: -3%\">\n",
       "<path fill=\"none\" stroke=\"black\" stroke-width=\"8\" d=\"M838.04,-361.82C859.03,-350.1 886.52,-334.74 909.06,-322.15\"/>\n",
       "<polygon fill=\"black\" stroke=\"black\" stroke-width=\"8\" points=\"912.75,-328.11 918.07,-317.12 905.92,-315.88 912.75,-328.11\"/>\n",
       "</a>\n",
       "</g>\n",
       "</g>\n",
       "<!-- CAPITAL&#45;&gt;INCOME -->\n",
       "<g id=\"edge21\" class=\"edge\">\n",
       "<title>CAPITAL-&gt;INCOME</title>\n",
       "<g id=\"a_edge21\"><a xlink:href=\"bogus\" xlink:title=\" CAPITAL -&gt; INCOME Min. att. 3%  max: 54%\">\n",
       "<path fill=\"none\" stroke=\"black\" stroke-width=\"5.42\" d=\"M767.86,-382.06C756.41,-382.7 743.67,-383.4 732,-384 601.33,-390.73 446.85,-397.73 372.44,-401.04\"/>\n",
       "<polygon fill=\"black\" stroke=\"black\" stroke-width=\"5.42\" points=\"371.84,-396.32 362.06,-401.5 372.26,-405.8 371.84,-396.32\"/>\n",
       "</a>\n",
       "</g>\n",
       "</g>\n",
       "<!-- CAPITAL(&#45;1) -->\n",
       "<g id=\"node19\" class=\"node\">\n",
       "<title>CAPITAL(-1)</title>\n",
       "<g id=\"a_node19\"><a xlink:title=\"CAPITAL\n",
       "FRML &lt;&gt; CAPITAL=CAPITAL(-1)+(INVESTMENT-DEPRECIATION_RATE * CAPITAL(-1))$\">\n",
       "<polygon fill=\"springgreen\" stroke=\"black\" points=\"1026,-398 877,-398 877,-362 1026,-362 1026,-398\"/>\n",
       "<text text-anchor=\"start\" x=\"883.5\" y=\"-375.8\" font-family=\"Times New Roman,serif\" font-size=\"14.00\" fill=\"blue\">CAPITAL(-1):CAPITAL</text>\n",
       "</a>\n",
       "</g>\n",
       "</g>\n",
       "<!-- CAPITAL&#45;&gt;CAPITAL(&#45;1) -->\n",
       "<g id=\"edge5\" class=\"edge\">\n",
       "<title>CAPITAL-&gt;CAPITAL(-1)</title>\n",
       "<g id=\"a_edge5\"><a xlink:href=\"bogus\" xlink:title=\" CAPITAL -&gt; CAPITAL(-1) Min. att. 0%  max: 94%\">\n",
       "<path fill=\"none\" stroke=\"black\" stroke-width=\"8\" d=\"M841.34,-374.08C849.2,-373.69 857.84,-373.44 866.72,-373.32\"/>\n",
       "<polygon fill=\"black\" stroke=\"black\" stroke-width=\"8\" points=\"866.85,-380.32 876.8,-373.25 866.75,-366.32 866.85,-380.32\"/>\n",
       "</a>\n",
       "</g>\n",
       "</g>\n",
       "<!-- A -->\n",
       "<g id=\"node7\" class=\"node\">\n",
       "<title>A</title>\n",
       "<g id=\"a_node7\"><a xlink:title=\"A\n",
       "Exogen\">\n",
       "<polygon fill=\"yellow\" stroke=\"black\" points=\"223,-394 169,-394 169,-358 223,-358 223,-394\"/>\n",
       "<text text-anchor=\"start\" x=\"189\" y=\"-371.8\" font-family=\"Times New Roman,serif\" font-size=\"14.00\" fill=\"blue\">A:</text>\n",
       "</a>\n",
       "</g>\n",
       "</g>\n",
       "<!-- A&#45;&gt;INCOME -->\n",
       "<g id=\"edge3\" class=\"edge\">\n",
       "<title>A-&gt;INCOME</title>\n",
       "<g id=\"a_edge3\"><a xlink:href=\"bogus\" xlink:title=\" A -&gt; INCOME Min. att. -0%  max: -0%\">\n",
       "<path fill=\"none\" stroke=\"black\" d=\"M223.11,-381.46C239.91,-384.98 262.17,-389.64 281.7,-393.73\"/>\n",
       "<polygon fill=\"black\" stroke=\"black\" points=\"281.11,-397.18 291.61,-395.8 282.54,-390.33 281.11,-397.18\"/>\n",
       "</a>\n",
       "</g>\n",
       "</g>\n",
       "<!-- YEAR -->\n",
       "<g id=\"node8\" class=\"node\">\n",
       "<title>YEAR</title>\n",
       "<g id=\"a_node8\"><a xlink:title=\"YEAR\n",
       "Exogen\">\n",
       "<polygon fill=\"yellow\" stroke=\"black\" points=\"223,-167 169,-167 169,-131 223,-131 223,-167\"/>\n",
       "<text text-anchor=\"start\" x=\"176\" y=\"-144.8\" font-family=\"Times New Roman,serif\" font-size=\"14.00\" fill=\"blue\">YEAR:</text>\n",
       "</a>\n",
       "</g>\n",
       "</g>\n",
       "<!-- YEAR&#45;&gt;EXTRALABOR -->\n",
       "<g id=\"edge17\" class=\"edge\">\n",
       "<title>YEAR-&gt;EXTRALABOR</title>\n",
       "<g id=\"a_edge17\"><a xlink:href=\"bogus\" xlink:title=\" YEAR -&gt; EXTRALABOR Min. att. 0%  max: 0%\">\n",
       "<path fill=\"none\" stroke=\"black\" d=\"M223.11,-149C234.72,-149 248.94,-149 263.06,-149\"/>\n",
       "<polygon fill=\"black\" stroke=\"black\" points=\"263.29,-152.5 273.29,-149 263.29,-145.5 263.29,-152.5\"/>\n",
       "</a>\n",
       "</g>\n",
       "</g>\n",
       "<!-- YEAR&#45;&gt;COAL_PRICE -->\n",
       "<g id=\"edge13\" class=\"edge\">\n",
       "<title>YEAR-&gt;COAL_PRICE</title>\n",
       "<g id=\"a_edge13\"><a xlink:href=\"bogus\" xlink:title=\" YEAR -&gt; COAL_PRICE Min. att. 0%  max: 0%\">\n",
       "<path fill=\"none\" stroke=\"black\" d=\"M223.11,-138.07C237.58,-132.01 256.11,-124.26 273.44,-117\"/>\n",
       "<polygon fill=\"black\" stroke=\"black\" points=\"275.05,-120.12 282.92,-113.03 272.34,-113.67 275.05,-120.12\"/>\n",
       "</a>\n",
       "</g>\n",
       "</g>\n",
       "<!-- YEAR&#45;&gt;OIL_PRICE -->\n",
       "<g id=\"edge9\" class=\"edge\">\n",
       "<title>YEAR-&gt;OIL_PRICE</title>\n",
       "<g id=\"a_edge9\"><a xlink:href=\"bogus\" xlink:title=\" YEAR -&gt; OIL_PRICE Min. att. 0%  max: 0%\">\n",
       "<path fill=\"none\" stroke=\"black\" d=\"M223.11,-159.93C238.21,-166.25 257.74,-174.43 275.72,-181.95\"/>\n",
       "<polygon fill=\"black\" stroke=\"black\" points=\"274.37,-185.18 284.95,-185.82 277.08,-178.73 274.37,-185.18\"/>\n",
       "</a>\n",
       "</g>\n",
       "</g>\n",
       "<!-- SAVING_RATE -->\n",
       "<g id=\"node10\" class=\"node\">\n",
       "<title>SAVING_RATE</title>\n",
       "<g id=\"a_node10\"><a xlink:title=\"SAVING_RATE\n",
       "Exogen\">\n",
       "<polygon fill=\"yellow\" stroke=\"black\" points=\"380,-313 274,-313 274,-277 380,-277 380,-313\"/>\n",
       "<text text-anchor=\"start\" x=\"280\" y=\"-290.8\" font-family=\"Times New Roman,serif\" font-size=\"14.00\" fill=\"blue\">SAVING_RATE:</text>\n",
       "</a>\n",
       "</g>\n",
       "</g>\n",
       "<!-- CONSUMPTION -->\n",
       "<g id=\"node13\" class=\"node\">\n",
       "<title>CONSUMPTION</title>\n",
       "<g id=\"a_node13\"><a xlink:title=\"CONSUMPTION\n",
       "FRML &lt;&gt; CONSUMPTION     = (1-SAVING_RATE)  * INCOME  $\">\n",
       "<polygon fill=\"#63b8ff\" stroke=\"black\" points=\"542,-337 427,-337 427,-301 542,-301 542,-337\"/>\n",
       "<text text-anchor=\"start\" x=\"433.5\" y=\"-314.8\" font-family=\"Times New Roman,serif\" font-size=\"14.00\" fill=\"blue\">CONSUMPTION:</text>\n",
       "</a>\n",
       "</g>\n",
       "</g>\n",
       "<!-- SAVING_RATE&#45;&gt;CONSUMPTION -->\n",
       "<g id=\"edge4\" class=\"edge\">\n",
       "<title>SAVING_RATE-&gt;CONSUMPTION</title>\n",
       "<g id=\"a_edge4\"><a xlink:href=\"bogus\" xlink:title=\" SAVING_RATE -&gt; CONSUMPTION Min. att. 0%  max: 0%\">\n",
       "<path fill=\"none\" stroke=\"black\" d=\"M380.21,-303.06C391.93,-304.87 404.52,-306.81 416.74,-308.7\"/>\n",
       "<polygon fill=\"black\" stroke=\"black\" points=\"416.47,-312.2 426.89,-310.26 417.54,-305.28 416.47,-312.2\"/>\n",
       "</a>\n",
       "</g>\n",
       "</g>\n",
       "<!-- INVESTMENT -->\n",
       "<g id=\"node11\" class=\"node\">\n",
       "<title>INVESTMENT</title>\n",
       "<g id=\"a_node11\"><a xlink:title=\"INVESTMENT\n",
       "FRML &lt;&gt; INVESTMENT      = INCOME - CONSUMPTION    $\">\n",
       "<polygon fill=\"#63b8ff\" stroke=\"black\" points=\"706.5,-375 603.5,-375 603.5,-339 706.5,-339 706.5,-375\"/>\n",
       "<text text-anchor=\"start\" x=\"610\" y=\"-352.8\" font-family=\"Times New Roman,serif\" font-size=\"14.00\" fill=\"blue\">INVESTMENT:</text>\n",
       "</a>\n",
       "</g>\n",
       "</g>\n",
       "<!-- INVESTMENT&#45;&gt;CAPITAL -->\n",
       "<g id=\"edge26\" class=\"edge\">\n",
       "<title>INVESTMENT-&gt;CAPITAL</title>\n",
       "<g id=\"a_edge26\"><a xlink:href=\"bogus\" xlink:title=\" INVESTMENT -&gt; CAPITAL Min. att. 6%  max: 100%\">\n",
       "<path fill=\"none\" stroke=\"black\" stroke-width=\"8\" d=\"M706.76,-364.92C723.3,-367.49 741.56,-370.34 757.72,-372.86\"/>\n",
       "<polygon fill=\"black\" stroke=\"black\" stroke-width=\"8\" points=\"757.03,-379.84 767.99,-374.46 759.19,-366.01 757.03,-379.84\"/>\n",
       "</a>\n",
       "</g>\n",
       "</g>\n",
       "<!-- LABOR_GROWTH -->\n",
       "<g id=\"node12\" class=\"node\">\n",
       "<title>LABOR_GROWTH</title>\n",
       "<g id=\"a_node12\"><a xlink:title=\"LABOR_GROWTH\n",
       "Exogen\">\n",
       "<polygon fill=\"yellow\" stroke=\"black\" points=\"129,-113 0,-113 0,-77 129,-77 129,-113\"/>\n",
       "<text text-anchor=\"start\" x=\"6.5\" y=\"-90.8\" font-family=\"Times New Roman,serif\" font-size=\"14.00\" fill=\"blue\">LABOR_GROWTH:</text>\n",
       "</a>\n",
       "</g>\n",
       "</g>\n",
       "<!-- LABOR_GROWTH&#45;&gt;LABOR -->\n",
       "<g id=\"edge12\" class=\"edge\">\n",
       "<title>LABOR_GROWTH-&gt;LABOR</title>\n",
       "<g id=\"a_edge12\"><a xlink:href=\"bogus\" xlink:title=\" LABOR_GROWTH -&gt; LABOR Min. att. 0%  max: 100%\">\n",
       "<path fill=\"none\" stroke=\"black\" stroke-width=\"8\" d=\"M83.51,-113.21C106.02,-135.99 144.69,-175.11 170.05,-200.76\"/>\n",
       "<polygon fill=\"black\" stroke=\"black\" stroke-width=\"8\" points=\"165.14,-205.75 177.15,-207.94 175.09,-195.91 165.14,-205.75\"/>\n",
       "</a>\n",
       "</g>\n",
       "</g>\n",
       "<!-- B -->\n",
       "<g id=\"node18\" class=\"node\">\n",
       "<title>B</title>\n",
       "<g id=\"a_node18\"><a xlink:title=\"B\n",
       "FRML &lt;&gt; IBH,B = ANSWER(LABOR_GROWTH) $\">\n",
       "<polygon fill=\"#63b8ff\" stroke=\"black\" points=\"223,-113 169,-113 169,-77 223,-77 223,-113\"/>\n",
       "<text text-anchor=\"start\" x=\"190\" y=\"-90.8\" font-family=\"Times New Roman,serif\" font-size=\"14.00\" fill=\"blue\">B:</text>\n",
       "</a>\n",
       "</g>\n",
       "</g>\n",
       "<!-- LABOR_GROWTH&#45;&gt;B -->\n",
       "<g id=\"edge16\" class=\"edge\">\n",
       "<title>LABOR_GROWTH-&gt;B</title>\n",
       "<g id=\"a_edge16\"><a xlink:href=\"bogus\" xlink:title=\" LABOR_GROWTH -&gt; B Min. att. 0%  max: 0%\">\n",
       "<path fill=\"none\" stroke=\"black\" d=\"M129.11,-95C139.34,-95 149.6,-95 158.88,-95\"/>\n",
       "<polygon fill=\"black\" stroke=\"black\" points=\"158.88,-98.5 168.88,-95 158.88,-91.5 158.88,-98.5\"/>\n",
       "</a>\n",
       "</g>\n",
       "</g>\n",
       "<!-- IBH -->\n",
       "<g id=\"node20\" class=\"node\">\n",
       "<title>IBH</title>\n",
       "<g id=\"a_node20\"><a xlink:title=\"IBH\n",
       "FRML &lt;&gt; IBH,B = ANSWER(LABOR_GROWTH) $\">\n",
       "<polygon fill=\"#63b8ff\" stroke=\"black\" points=\"223,-59 169,-59 169,-23 223,-23 223,-59\"/>\n",
       "<text text-anchor=\"start\" x=\"182\" y=\"-36.8\" font-family=\"Times New Roman,serif\" font-size=\"14.00\" fill=\"blue\">IBH:</text>\n",
       "</a>\n",
       "</g>\n",
       "</g>\n",
       "<!-- LABOR_GROWTH&#45;&gt;IBH -->\n",
       "<g id=\"edge14\" class=\"edge\">\n",
       "<title>LABOR_GROWTH-&gt;IBH</title>\n",
       "<g id=\"a_edge14\"><a xlink:href=\"bogus\" xlink:title=\" LABOR_GROWTH -&gt; IBH Min. att. 0%  max: 0%\">\n",
       "<path fill=\"none\" stroke=\"black\" d=\"M108.98,-76.87C125.41,-70.02 143.9,-62.31 159.51,-55.8\"/>\n",
       "<polygon fill=\"black\" stroke=\"black\" points=\"160.93,-59 168.81,-51.92 158.24,-52.54 160.93,-59\"/>\n",
       "</a>\n",
       "</g>\n",
       "</g>\n",
       "<!-- CONSUMPTION&#45;&gt;INVESTMENT -->\n",
       "<g id=\"edge8\" class=\"edge\">\n",
       "<title>CONSUMPTION-&gt;INVESTMENT</title>\n",
       "<g id=\"a_edge8\"><a xlink:href=\"bogus\" xlink:title=\" CONSUMPTION -&gt; INVESTMENT Min. att. -1900%  max: -1900%\">\n",
       "<path fill=\"none\" stroke=\"black\" stroke-width=\"8\" d=\"M542.08,-331.76C558.47,-335.46 576.43,-339.51 593.07,-343.26\"/>\n",
       "<polygon fill=\"black\" stroke=\"black\" stroke-width=\"8\" points=\"591.94,-350.18 603.24,-345.55 595.02,-336.52 591.94,-350.18\"/>\n",
       "</a>\n",
       "</g>\n",
       "</g>\n",
       "<!-- INCOME&#45;&gt;INVESTMENT -->\n",
       "<g id=\"edge19\" class=\"edge\">\n",
       "<title>INCOME-&gt;INVESTMENT</title>\n",
       "<g id=\"a_edge19\"><a xlink:href=\"bogus\" xlink:title=\" INCOME -&gt; INVESTMENT Min. att. 2000%  max: 2000%\">\n",
       "<path fill=\"none\" stroke=\"black\" stroke-width=\"8\" d=\"M362.36,-398.14C381.41,-395.44 405.51,-392.03 427,-389 483.24,-381.06 547.32,-372.03 593.02,-365.59\"/>\n",
       "<polygon fill=\"black\" stroke=\"black\" stroke-width=\"8\" points=\"594.14,-372.5 603.06,-364.17 592.18,-358.64 594.14,-372.5\"/>\n",
       "</a>\n",
       "</g>\n",
       "</g>\n",
       "<!-- INCOME&#45;&gt;CONSUMPTION -->\n",
       "<g id=\"edge10\" class=\"edge\">\n",
       "<title>INCOME-&gt;CONSUMPTION</title>\n",
       "<g id=\"a_edge10\"><a xlink:href=\"bogus\" xlink:title=\" INCOME -&gt; CONSUMPTION Min. att. 100%  max: 100%\">\n",
       "<path fill=\"none\" stroke=\"black\" stroke-width=\"8\" d=\"M362.28,-389.8C371.77,-385.74 381.94,-381.02 391,-376 408.04,-366.56 410.51,-361.37 427,-351 431.65,-348.08 436.58,-345.1 441.51,-342.21\"/>\n",
       "<polygon fill=\"black\" stroke=\"black\" stroke-width=\"8\" points=\"445.18,-348.18 450.34,-337.11 438.18,-336.06 445.18,-348.18\"/>\n",
       "</a>\n",
       "</g>\n",
       "</g>\n",
       "<!-- LABOR(&#45;1)&#45;&gt;LABOR -->\n",
       "<g id=\"edge6\" class=\"edge\">\n",
       "<title>LABOR(-1)-&gt;LABOR</title>\n",
       "<g id=\"a_edge6\"><a xlink:href=\"bogus\" xlink:title=\"NA\">\n",
       "<path fill=\"none\" stroke=\"black\" stroke-width=\"0.5\" d=\"M262.66,-330.72C237.38,-309.85 217.75,-276.92 206.77,-253.34\"/>\n",
       "<polygon fill=\"black\" stroke=\"black\" stroke-width=\"0.5\" points=\"209.97,-251.93 202.74,-244.19 203.57,-254.75 209.97,-251.93\"/>\n",
       "</a>\n",
       "</g>\n",
       "</g>\n",
       "<!-- B&#45;&gt;HORSE -->\n",
       "<g id=\"edge27\" class=\"edge\">\n",
       "<title>B-&gt;HORSE</title>\n",
       "<g id=\"a_edge27\"><a xlink:href=\"bogus\" xlink:title=\" B -&gt; HORSE Min. att. 0%  max: 0%\">\n",
       "<path fill=\"none\" stroke=\"black\" d=\"M223.11,-84.07C241.41,-76.41 266.2,-66.03 286.86,-57.38\"/>\n",
       "<polygon fill=\"black\" stroke=\"black\" points=\"288.45,-60.51 296.32,-53.42 285.75,-54.06 288.45,-60.51\"/>\n",
       "</a>\n",
       "</g>\n",
       "</g>\n",
       "<!-- CAPITAL(&#45;1)&#45;&gt;CAPITAL -->\n",
       "<g id=\"edge18\" class=\"edge\">\n",
       "<title>CAPITAL(-1)-&gt;CAPITAL</title>\n",
       "<g id=\"a_edge18\"><a xlink:href=\"bogus\" xlink:title=\"NA\">\n",
       "<path fill=\"none\" stroke=\"black\" stroke-width=\"0.5\" d=\"M876.8,-386.75C868.22,-386.74 859.66,-386.6 851.6,-386.34\"/>\n",
       "<polygon fill=\"black\" stroke=\"black\" stroke-width=\"0.5\" points=\"851.48,-382.83 841.34,-385.92 851.19,-389.82 851.48,-382.83\"/>\n",
       "</a>\n",
       "</g>\n",
       "</g>\n",
       "<!-- IBH&#45;&gt;HORSE -->\n",
       "<g id=\"edge23\" class=\"edge\">\n",
       "<title>IBH-&gt;HORSE</title>\n",
       "<g id=\"a_edge23\"><a xlink:href=\"bogus\" xlink:title=\" IBH -&gt; HORSE Min. att. 0%  max: 0%\">\n",
       "<path fill=\"none\" stroke=\"black\" d=\"M223.11,-41C241.24,-41 265.75,-41 286.3,-41\"/>\n",
       "<polygon fill=\"black\" stroke=\"black\" points=\"286.32,-44.5 296.32,-41 286.32,-37.5 286.32,-44.5\"/>\n",
       "</a>\n",
       "</g>\n",
       "</g>\n",
       "</g>\n",
       "</svg>"
      ],
      "text/plain": [
       "<IPython.core.display.SVG object>"
      ]
     },
     "metadata": {},
     "output_type": "display_data"
    }
   ],
   "source": [
    "msolow.drawmodel( title=\"Model Structure\", png=latex,size=(15,15))"
   ]
  },
  {
   "cell_type": "markdown",
   "id": "55308604",
   "metadata": {
    "slideshow": {
     "slide_type": "slide"
    }
   },
   "source": [
    "#### Adjacency matrix\n",
    "\n",
    "Another way to illustrate the dependency graph is an adjacency matrix. "
   ]
  },
  {
   "cell_type": "code",
   "execution_count": 106,
   "id": "575d2fb9",
   "metadata": {
    "slideshow": {
     "slide_type": "slide"
    }
   },
   "outputs": [
    {
     "data": {
      "image/png": "[encoded data removed]",
      "text/plain": [
       "<Figure size 500x500 with 1 Axes>"
      ]
     },
     "metadata": {},
     "output_type": "display_data"
    }
   ],
   "source": [
    "msolow.plotadjacency();"
   ]
  },
  {
   "cell_type": "markdown",
   "id": "506a4005",
   "metadata": {
    "slideshow": {
     "slide_type": "fragment"
    }
   },
   "source": [
    "The variables  ['INVESTMENT', 'CONSUMPTION', 'CAPITAL', 'INCOME'] in the red area are the core of the model and has to be solved as a system. \n",
    "\n",
    "LABOR is the prolog and can be calculated before the core is solved. While CAPITAL_INTENSE is the epilog which can be calculated after the core is solved. \n",
    "\n",
    "Many models comform to this pattern. And for solving purpose a model is divided into a prolog, core and an epilog. Even if the core is actually consistent of several strong components. "
   ]
  },
  {
   "cell_type": "markdown",
   "id": "ae523597",
   "metadata": {
    "slideshow": {
     "slide_type": "slide"
    }
   },
   "source": [
    "(solow-python-code)=\n",
    "### The python function used to solve the model\n",
    "In order to solve the model Modelflow will generate a python function which implements the model. The user will hopeful  newer have to relate to the generated python code. **The point of modelflow is, that the user has to relate to the specification of the business logic, not the implementation in code**  "
   ]
  },
  {
   "cell_type": "code",
   "execution_count": 107,
   "id": "5e1113a2",
   "metadata": {
    "slideshow": {
     "slide_type": "slide"
    }
   },
   "outputs": [
    {
     "name": "stdout",
     "output_type": "stream",
     "text": [
      "def make_los(funks=[],errorfunk=None):\n",
      "    import time\n",
      "    import tqdm\n",
      "    from numba import jit\n",
      "    from modeluserfunk import jit, recode\n",
      "    from modelBLfunk import array, classfunk, clognorm, exp, gamma, inspect, jit, lifetime_credit_loss, log, logit, logit_inverse, lognorm, matrix, mv_opt, mv_opt_prop, norm, normcdf, qgamma, sqrt, sum_excel, transpose\n",
      "    labor_dif = funks[0]\n",
      "    answer = funks[1]\n",
      "    get_prices = funks[2]\n",
      "    def prolog0(values,outvalues,row,alfa=1.0):\n",
      "        try :\n",
      "            pass\n",
      "            values[row,0]=values[row-1,0]+(labor_dif(values[row,5],values[row-1,0]))\n",
      "            pass  # B\n",
      "            values[row,16],values[row,15]=answer(values[row,5])\n",
      "            values[row,11]=values[row,16]*values[row,15]\n",
      "            pass  # EXTRALABOR\n",
      "            values[row,13],values[row,14],values[row,9]=get_prices(values[row,7],values[row,0])\n",
      "            pass  # OIL_PRICE\n",
      "        except :\n",
      "            errorfunk(values,sys.exc_info()[2].tb_lineno,overhead=12,overeq=0)\n",
      "            raise\n",
      "        return \n",
      "    def prolog(values,outvalues,row,alfa=1.0):\n",
      "        prolog0(values,outvalues,row,alfa=alfa)\n",
      "        return  \n",
      "    def core0(values,outvalues,row,alfa=1.0):\n",
      "        try :\n",
      "            pass\n",
      "            values[row,8]=values[row,3]*values[row,1]**values[row,2]*values[row,0]**(1-values[row,2])\n",
      "            values[row,17]=(1-values[row,6])*values[row,8]\n",
      "            values[row,12]=values[row,8]-values[row,17]\n",
      "            values[row,1]=values[row-1,1]+(values[row,12]-values[row,4]*values[row-1,1])\n",
      "        except :\n",
      "            errorfunk(values,sys.exc_info()[2].tb_lineno,overhead=29,overeq=7)\n",
      "            raise\n",
      "        return \n",
      "    def core(values,outvalues,row,alfa=1.0):\n",
      "        core0(values,outvalues,row,alfa=alfa)\n",
      "        return  \n",
      "    def epilog0(values,outvalues,row,alfa=1.0):\n",
      "        try :\n",
      "            pass\n",
      "            values[row,10]=values[row,1]/values[row,0]\n",
      "        except :\n",
      "            errorfunk(values,sys.exc_info()[2].tb_lineno,overhead=43,overeq=11)\n",
      "            raise\n",
      "        return \n",
      "    def epilog(values,outvalues,row,alfa=1.0):\n",
      "        epilog0(values,outvalues,row,alfa=alfa)\n",
      "        return  \n",
      "    return prolog,core,epilog\n",
      "\n"
     ]
    }
   ],
   "source": [
    "print(msolow.make_los_text)"
   ]
  },
  {
   "cell_type": "code",
   "execution_count": null,
   "id": "948ce196",
   "metadata": {},
   "outputs": [],
   "source": []
  }
 ],
 "metadata": {
  "celltoolbar": "Slideshow",
  "hide_input": false,
  "kernelspec": {
   "display_name": "Python 3 (ipykernel)",
   "language": "python",
   "name": "python3"
  },
  "language_info": {
   "codemirror_mode": {
    "name": "ipython",
    "version": 3
   },
   "file_extension": ".py",
   "mimetype": "text/x-python",
   "name": "python",
   "nbconvert_exporter": "python",
   "pygments_lexer": "ipython3",
   "version": "3.9.13"
  },
  "toc": {
   "base_numbering": 1,
   "nav_menu": {},
   "number_sections": true,
   "sideBar": true,
   "skip_h1_title": false,
   "title_cell": "Table of Contents",
   "title_sidebar": "Contents",
   "toc_cell": false,
   "toc_position": {
    "height": "calc(100% - 180px)",
    "left": "10px",
    "top": "150px",
    "width": "211.875px"
   },
   "toc_section_display": true,
   "toc_window_display": false
  },
  "varInspector": {
   "cols": {
    "lenName": 16,
    "lenType": 16,
    "lenVar": 40
   },
   "kernels_config": {
    "python": {
     "delete_cmd_postfix": "",
     "delete_cmd_prefix": "del ",
     "library": "var_list.py",
     "varRefreshCmd": "print(var_dic_list())"
    },
    "r": {
     "delete_cmd_postfix": ") ",
     "delete_cmd_prefix": "rm(",
     "library": "var_list.r",
     "varRefreshCmd": "cat(var_dic_list()) "
    }
   },
   "types_to_exclude": [
    "module",
    "function",
    "builtin_function_or_method",
    "instance",
    "_Feature"
   ],
   "window_display": false
  }
 },
 "nbformat": 4,
 "nbformat_minor": 5
}
