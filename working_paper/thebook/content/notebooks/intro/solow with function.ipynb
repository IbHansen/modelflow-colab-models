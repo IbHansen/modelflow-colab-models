{
 "cells": [
  {
   "cell_type": "markdown",
   "id": "9f2e2785",
   "metadata": {
    "slideshow": {
     "slide_type": "slide"
    }
   },
   "source": [
    "# Example Solow model \n",
    "\n",
    "\n",
    "In this jupyter notebook we will specify, solve and analyse a simple Solow model in ModelFlow. \n",
    "    "
   ]
  },
  {
   "cell_type": "code",
   "execution_count": 28,
   "id": "e7c70d96",
   "metadata": {
    "slideshow": {
     "slide_type": "slide"
    }
   },
   "outputs": [
    {
     "data": {
      "text/html": [
       "\n",
       "        <style>\n",
       "            div#notebook-container    { width: 95%; }\n",
       "            div#menubar-container     { width: 65%; }\n",
       "            div#maintoolbar-container { width: 99%; }\n",
       "        </style>\n",
       "        "
      ],
      "text/plain": [
       "<IPython.core.display.HTML object>"
      ]
     },
     "metadata": {},
     "output_type": "display_data"
    }
   ],
   "source": [
    "#Required packages\n",
    "import pandas as pd\n",
    "\n",
    "# Modelflow modules\n",
    "from modelclass import model\n",
    "   \n",
    "#for publication \n",
    "latex=0\n",
    "model.widescreen()"
   ]
  },
  {
   "cell_type": "markdown",
   "id": "b6b5050f",
   "metadata": {
    "slideshow": {
     "slide_type": "slide"
    }
   },
   "source": [
    "\n",
    "## Specify the model \n",
    "We start by defining the logic of the Solow model in the Business Logic Language.   \n",
    "\n"
   ]
  },
  {
   "cell_type": "markdown",
   "id": "b7d6df29",
   "metadata": {
    "slideshow": {
     "slide_type": "skip"
    }
   },
   "source": [
    ":::{margin} **Business Logic Language**\n",
    "More on how to specify models [here](../intro/model%20specification.ipynb)\n",
    ":::"
   ]
  },
  {
   "cell_type": "code",
   "execution_count": 29,
   "id": "8bed6ee0",
   "metadata": {},
   "outputs": [],
   "source": [
    "def labor_dif(growth,last):\n",
    "    return growth*last"
   ]
  },
  {
   "cell_type": "code",
   "execution_count": 30,
   "id": "5b016687",
   "metadata": {},
   "outputs": [],
   "source": [
    "def answer(growth):\n",
    "    return 42,34"
   ]
  },
  {
   "cell_type": "code",
   "execution_count": 47,
   "id": "a1dd5bf9",
   "metadata": {
    "slideshow": {
     "slide_type": "fragment"
    }
   },
   "outputs": [],
   "source": [
    "\n",
    "fsolow2 = '''\\\n",
    "Income          = a  * Capital**alfa * Labor **(1-alfa) \n",
    "Consumption     = (1-saving_rate)  * Income \n",
    "Investment      = Income - Consumption   \n",
    "diff(Capital)   = Investment-Depreciation_rate * Capital(-1)\n",
    "diff(Labor)     = labor_dif(Labor_growth,Labor(-1))  \n",
    "Capital_intensity = Capital/Labor \n",
    "ibh,b = answer(Labor_growth)\n",
    "horse =  ibh *b \n",
    "'''"
   ]
  },
  {
   "cell_type": "code",
   "execution_count": 48,
   "id": "8788f065",
   "metadata": {
    "slideshow": {
     "slide_type": "fragment"
    }
   },
   "outputs": [],
   "source": [
    "\n",
    "fsolow = '''\\\n",
    "Income          = a  * Capital**alfa * Labor **(1-alfa) \n",
    "Consumption     = (1-saving_rate)  * Income \n",
    "Investment      = Income - Consumption   \n",
    "diff(Capital)   = Investment-Depreciation_rate * Capital(-1)\n",
    "diff(Labor)     = Labor_growth * Labor(-1)  \n",
    "Capital_intensity = Capital/Labor \n",
    "'''"
   ]
  },
  {
   "cell_type": "markdown",
   "id": "6ab7bf46",
   "metadata": {
    "slideshow": {
     "slide_type": "slide"
    }
   },
   "source": [
    "## Create a model class instance\n",
    "\n",
    "After defining the Business Logic Language and storing it in the variable 'fsolow', we create a class instance called msolow. "
   ]
  },
  {
   "cell_type": "code",
   "execution_count": 49,
   "id": "67f4a348",
   "metadata": {
    "slideshow": {
     "slide_type": "fragment"
    }
   },
   "outputs": [],
   "source": [
    "msolow = model.from_eq(fsolow2,modelname='Solow model',funks=[labor_dif,answer])"
   ]
  },
  {
   "cell_type": "code",
   "execution_count": 50,
   "id": "b571ce4e",
   "metadata": {},
   "outputs": [
    {
     "name": "stdout",
     "output_type": "stream",
     "text": [
      "FRML <> INCOME          = A  * CAPITAL**ALFA * LABOR **(1-ALFA)  $\n",
      "FRML <> CONSUMPTION     = (1-SAVING_RATE)  * INCOME  $\n",
      "FRML <> INVESTMENT      = INCOME - CONSUMPTION    $\n",
      "FRML <> CAPITAL=CAPITAL(-1)+(INVESTMENT-DEPRECIATION_RATE * CAPITAL(-1))$\n",
      "FRML <> LABOR=LABOR(-1)+(LABOR_DIF(LABOR_GROWTH,LABOR(-1)))$\n",
      "FRML <> CAPITAL_INTENSITY = CAPITAL/LABOR  $\n",
      "FRML <> IBH,B = ANSWER(LABOR_GROWTH) $\n",
      "FRML <> HORSE =  IBH *B  $\n"
     ]
    }
   ],
   "source": [
    "print(msolow.equations)"
   ]
  },
  {
   "cell_type": "markdown",
   "id": "062209f4",
   "metadata": {
    "slideshow": {
     "slide_type": "slide"
    }
   },
   "source": [
    "Above the equation for Capital and Labor on the left hand side of the = (equal to) consist of an expressing ```diff(Capital)``` and ```diff(Labor)```. **The equations are not normalized**. \n",
    "\n",
    "To solve a model in modelflow **all equations has to be normalized**. Meaning that the left hand side only consist of variables not expressions. So the function ```model.from_eq``` will normalize the equations as the first step before the model can be solved. \n",
    "\n",
    "In this case **first** ```diff(Capital)``` is transformed to $\\Delta capital = capital-capital(-1)$. **Then** the lagged variables is moved to the right side of the =. \n",
    " The same goes for diff(labor).\n",
    " \n",
    "So the normalized business language of the model now looks like:"
   ]
  },
  {
   "cell_type": "code",
   "execution_count": 51,
   "id": "62242f27",
   "metadata": {
    "slideshow": {
     "slide_type": "slide"
    }
   },
   "outputs": [
    {
     "name": "stdout",
     "output_type": "stream",
     "text": [
      "FRML <> INCOME          = A  * CAPITAL**ALFA * LABOR **(1-ALFA)  $\n",
      "FRML <> CONSUMPTION     = (1-SAVING_RATE)  * INCOME  $\n",
      "FRML <> INVESTMENT      = INCOME - CONSUMPTION    $\n",
      "FRML <> CAPITAL=CAPITAL(-1)+(INVESTMENT-DEPRECIATION_RATE * CAPITAL(-1))$\n",
      "FRML <> LABOR=LABOR(-1)+(LABOR_DIF(LABOR_GROWTH,LABOR(-1)))$\n",
      "FRML <> CAPITAL_INTENSITY = CAPITAL/LABOR  $\n",
      "FRML <> IBH,B = ANSWER(LABOR_GROWTH) $\n",
      "FRML <> HORSE =  IBH *B  $\n"
     ]
    }
   ],
   "source": [
    "msolow.print_model"
   ]
  },
  {
   "cell_type": "markdown",
   "id": "3e9ab796",
   "metadata": {
    "slideshow": {
     "slide_type": "slide"
    }
   },
   "source": [
    "## Create some data \n",
    "\n",
    "To show what Modelflow can do, we create a Pandas dataframe with input data. And print the first 5 out of 300 observations.  "
   ]
  },
  {
   "cell_type": "code",
   "execution_count": 52,
   "id": "286fe002",
   "metadata": {
    "slideshow": {
     "slide_type": "fragment"
    }
   },
   "outputs": [
    {
     "data": {
      "text/html": [
       "<div>\n",
       "<style scoped>\n",
       "    .dataframe tbody tr th:only-of-type {\n",
       "        vertical-align: middle;\n",
       "    }\n",
       "\n",
       "    .dataframe tbody tr th {\n",
       "        vertical-align: top;\n",
       "    }\n",
       "\n",
       "    .dataframe thead th {\n",
       "        text-align: right;\n",
       "    }\n",
       "</style>\n",
       "<table border=\"1\" class=\"dataframe\">\n",
       "  <thead>\n",
       "    <tr style=\"text-align: right;\">\n",
       "      <th></th>\n",
       "      <th>LABOR</th>\n",
       "      <th>CAPITAL</th>\n",
       "      <th>ALFA</th>\n",
       "      <th>A</th>\n",
       "      <th>DEPRECIATION_RATE</th>\n",
       "      <th>LABOR_GROWTH</th>\n",
       "      <th>SAVING_RATE</th>\n",
       "    </tr>\n",
       "  </thead>\n",
       "  <tbody>\n",
       "    <tr>\n",
       "      <th>0</th>\n",
       "      <td>100</td>\n",
       "      <td>100</td>\n",
       "      <td>0.5</td>\n",
       "      <td>1</td>\n",
       "      <td>0.05</td>\n",
       "      <td>0.01</td>\n",
       "      <td>0.05</td>\n",
       "    </tr>\n",
       "    <tr>\n",
       "      <th>1</th>\n",
       "      <td>100</td>\n",
       "      <td>100</td>\n",
       "      <td>0.5</td>\n",
       "      <td>1</td>\n",
       "      <td>0.05</td>\n",
       "      <td>0.01</td>\n",
       "      <td>0.05</td>\n",
       "    </tr>\n",
       "  </tbody>\n",
       "</table>\n",
       "</div>"
      ],
      "text/plain": [
       "   LABOR  CAPITAL  ALFA  A  DEPRECIATION_RATE  LABOR_GROWTH  SAVING_RATE\n",
       "0    100      100   0.5  1               0.05          0.01         0.05\n",
       "1    100      100   0.5  1               0.05          0.01         0.05"
      ]
     },
     "execution_count": 52,
     "metadata": {},
     "output_type": "execute_result"
    }
   ],
   "source": [
    "N = 300  \n",
    "df = pd.DataFrame({'LABOR':[100]*N,\n",
    "                   'CAPITAL':[100]*N, \n",
    "                   'ALFA':[0.5]*N, \n",
    "                   'A': [1]*N, \n",
    "                   'DEPRECIATION_RATE': [0.05]*N, \n",
    "                   'LABOR_GROWTH': [0.01]*N, \n",
    "                   'SAVING_RATE':[0.05]*N})\n",
    "df.head(2) #this prints out the first 5 rows of the dataframe"
   ]
  },
  {
   "cell_type": "markdown",
   "id": "4e86e552",
   "metadata": {
    "slideshow": {
     "slide_type": "slide"
    }
   },
   "source": [
    "## Run the model "
   ]
  },
  {
   "cell_type": "code",
   "execution_count": 53,
   "id": "dfc57421",
   "metadata": {
    "scrolled": false
   },
   "outputs": [
    {
     "data": {
      "text/html": [
       "<div>\n",
       "<style scoped>\n",
       "    .dataframe tbody tr th:only-of-type {\n",
       "        vertical-align: middle;\n",
       "    }\n",
       "\n",
       "    .dataframe tbody tr th {\n",
       "        vertical-align: top;\n",
       "    }\n",
       "\n",
       "    .dataframe thead th {\n",
       "        text-align: right;\n",
       "    }\n",
       "</style>\n",
       "<table border=\"1\" class=\"dataframe\">\n",
       "  <thead>\n",
       "    <tr style=\"text-align: right;\">\n",
       "      <th></th>\n",
       "      <th>LABOR</th>\n",
       "      <th>CAPITAL</th>\n",
       "      <th>ALFA</th>\n",
       "      <th>A</th>\n",
       "      <th>DEPRECIATION_RATE</th>\n",
       "      <th>LABOR_GROWTH</th>\n",
       "      <th>SAVING_RATE</th>\n",
       "      <th>INCOME</th>\n",
       "      <th>B</th>\n",
       "      <th>CAPITAL_INTENSITY</th>\n",
       "      <th>CONSUMPTION</th>\n",
       "      <th>IBH</th>\n",
       "      <th>INVESTMENT</th>\n",
       "      <th>HORSE</th>\n",
       "    </tr>\n",
       "  </thead>\n",
       "  <tbody>\n",
       "    <tr>\n",
       "      <th>0</th>\n",
       "      <td>100.000000</td>\n",
       "      <td>100.000000</td>\n",
       "      <td>0.5</td>\n",
       "      <td>1.0</td>\n",
       "      <td>0.05</td>\n",
       "      <td>0.01</td>\n",
       "      <td>0.05</td>\n",
       "      <td>0.000000</td>\n",
       "      <td>0.0</td>\n",
       "      <td>0.000000</td>\n",
       "      <td>0.000000</td>\n",
       "      <td>0.0</td>\n",
       "      <td>0.000000</td>\n",
       "      <td>0.0</td>\n",
       "    </tr>\n",
       "    <tr>\n",
       "      <th>1</th>\n",
       "      <td>101.000000</td>\n",
       "      <td>100.025580</td>\n",
       "      <td>0.5</td>\n",
       "      <td>1.0</td>\n",
       "      <td>0.05</td>\n",
       "      <td>0.01</td>\n",
       "      <td>0.05</td>\n",
       "      <td>100.511609</td>\n",
       "      <td>34.0</td>\n",
       "      <td>0.990352</td>\n",
       "      <td>95.486029</td>\n",
       "      <td>42.0</td>\n",
       "      <td>5.025580</td>\n",
       "      <td>1428.0</td>\n",
       "    </tr>\n",
       "    <tr>\n",
       "      <th>2</th>\n",
       "      <td>102.010000</td>\n",
       "      <td>100.076226</td>\n",
       "      <td>0.5</td>\n",
       "      <td>1.0</td>\n",
       "      <td>0.05</td>\n",
       "      <td>0.01</td>\n",
       "      <td>0.05</td>\n",
       "      <td>101.038487</td>\n",
       "      <td>34.0</td>\n",
       "      <td>0.981043</td>\n",
       "      <td>95.986562</td>\n",
       "      <td>42.0</td>\n",
       "      <td>5.051924</td>\n",
       "      <td>1428.0</td>\n",
       "    </tr>\n",
       "    <tr>\n",
       "      <th>3</th>\n",
       "      <td>103.030100</td>\n",
       "      <td>100.151443</td>\n",
       "      <td>0.5</td>\n",
       "      <td>1.0</td>\n",
       "      <td>0.05</td>\n",
       "      <td>0.01</td>\n",
       "      <td>0.05</td>\n",
       "      <td>101.580575</td>\n",
       "      <td>34.0</td>\n",
       "      <td>0.972060</td>\n",
       "      <td>96.501546</td>\n",
       "      <td>42.0</td>\n",
       "      <td>5.079029</td>\n",
       "      <td>1428.0</td>\n",
       "    </tr>\n",
       "    <tr>\n",
       "      <th>4</th>\n",
       "      <td>104.060401</td>\n",
       "      <td>100.250762</td>\n",
       "      <td>0.5</td>\n",
       "      <td>1.0</td>\n",
       "      <td>0.05</td>\n",
       "      <td>0.01</td>\n",
       "      <td>0.05</td>\n",
       "      <td>102.137821</td>\n",
       "      <td>34.0</td>\n",
       "      <td>0.963390</td>\n",
       "      <td>97.030930</td>\n",
       "      <td>42.0</td>\n",
       "      <td>5.106891</td>\n",
       "      <td>1428.0</td>\n",
       "    </tr>\n",
       "    <tr>\n",
       "      <th>5</th>\n",
       "      <td>105.101005</td>\n",
       "      <td>100.373733</td>\n",
       "      <td>0.5</td>\n",
       "      <td>1.0</td>\n",
       "      <td>0.05</td>\n",
       "      <td>0.01</td>\n",
       "      <td>0.05</td>\n",
       "      <td>102.710176</td>\n",
       "      <td>34.0</td>\n",
       "      <td>0.955022</td>\n",
       "      <td>97.574667</td>\n",
       "      <td>42.0</td>\n",
       "      <td>5.135509</td>\n",
       "      <td>1428.0</td>\n",
       "    </tr>\n",
       "    <tr>\n",
       "      <th>6</th>\n",
       "      <td>106.152015</td>\n",
       "      <td>100.519926</td>\n",
       "      <td>0.5</td>\n",
       "      <td>1.0</td>\n",
       "      <td>0.05</td>\n",
       "      <td>0.01</td>\n",
       "      <td>0.05</td>\n",
       "      <td>103.297593</td>\n",
       "      <td>34.0</td>\n",
       "      <td>0.946943</td>\n",
       "      <td>98.132713</td>\n",
       "      <td>42.0</td>\n",
       "      <td>5.164880</td>\n",
       "      <td>1428.0</td>\n",
       "    </tr>\n",
       "    <tr>\n",
       "      <th>7</th>\n",
       "      <td>107.213535</td>\n",
       "      <td>100.688931</td>\n",
       "      <td>0.5</td>\n",
       "      <td>1.0</td>\n",
       "      <td>0.05</td>\n",
       "      <td>0.01</td>\n",
       "      <td>0.05</td>\n",
       "      <td>103.900030</td>\n",
       "      <td>34.0</td>\n",
       "      <td>0.939144</td>\n",
       "      <td>98.705029</td>\n",
       "      <td>42.0</td>\n",
       "      <td>5.195002</td>\n",
       "      <td>1428.0</td>\n",
       "    </tr>\n",
       "    <tr>\n",
       "      <th>8</th>\n",
       "      <td>108.285671</td>\n",
       "      <td>100.880357</td>\n",
       "      <td>0.5</td>\n",
       "      <td>1.0</td>\n",
       "      <td>0.05</td>\n",
       "      <td>0.01</td>\n",
       "      <td>0.05</td>\n",
       "      <td>104.517449</td>\n",
       "      <td>34.0</td>\n",
       "      <td>0.931613</td>\n",
       "      <td>99.291576</td>\n",
       "      <td>42.0</td>\n",
       "      <td>5.225872</td>\n",
       "      <td>1428.0</td>\n",
       "    </tr>\n",
       "    <tr>\n",
       "      <th>9</th>\n",
       "      <td>109.368527</td>\n",
       "      <td>101.093830</td>\n",
       "      <td>0.5</td>\n",
       "      <td>1.0</td>\n",
       "      <td>0.05</td>\n",
       "      <td>0.01</td>\n",
       "      <td>0.05</td>\n",
       "      <td>105.149813</td>\n",
       "      <td>34.0</td>\n",
       "      <td>0.924341</td>\n",
       "      <td>99.892323</td>\n",
       "      <td>42.0</td>\n",
       "      <td>5.257491</td>\n",
       "      <td>1428.0</td>\n",
       "    </tr>\n",
       "    <tr>\n",
       "      <th>10</th>\n",
       "      <td>110.462213</td>\n",
       "      <td>101.328993</td>\n",
       "      <td>0.5</td>\n",
       "      <td>1.0</td>\n",
       "      <td>0.05</td>\n",
       "      <td>0.01</td>\n",
       "      <td>0.05</td>\n",
       "      <td>105.797092</td>\n",
       "      <td>34.0</td>\n",
       "      <td>0.917318</td>\n",
       "      <td>100.507238</td>\n",
       "      <td>42.0</td>\n",
       "      <td>5.289855</td>\n",
       "      <td>1428.0</td>\n",
       "    </tr>\n",
       "    <tr>\n",
       "      <th>11</th>\n",
       "      <td>111.566835</td>\n",
       "      <td>101.585506</td>\n",
       "      <td>0.5</td>\n",
       "      <td>1.0</td>\n",
       "      <td>0.05</td>\n",
       "      <td>0.01</td>\n",
       "      <td>0.05</td>\n",
       "      <td>106.459257</td>\n",
       "      <td>34.0</td>\n",
       "      <td>0.910535</td>\n",
       "      <td>101.136294</td>\n",
       "      <td>42.0</td>\n",
       "      <td>5.322963</td>\n",
       "      <td>1428.0</td>\n",
       "    </tr>\n",
       "    <tr>\n",
       "      <th>12</th>\n",
       "      <td>112.682503</td>\n",
       "      <td>101.863045</td>\n",
       "      <td>0.5</td>\n",
       "      <td>1.0</td>\n",
       "      <td>0.05</td>\n",
       "      <td>0.01</td>\n",
       "      <td>0.05</td>\n",
       "      <td>107.136282</td>\n",
       "      <td>34.0</td>\n",
       "      <td>0.903983</td>\n",
       "      <td>101.779468</td>\n",
       "      <td>42.0</td>\n",
       "      <td>5.356814</td>\n",
       "      <td>1428.0</td>\n",
       "    </tr>\n",
       "    <tr>\n",
       "      <th>13</th>\n",
       "      <td>113.809328</td>\n",
       "      <td>102.161300</td>\n",
       "      <td>0.5</td>\n",
       "      <td>1.0</td>\n",
       "      <td>0.05</td>\n",
       "      <td>0.01</td>\n",
       "      <td>0.05</td>\n",
       "      <td>107.828145</td>\n",
       "      <td>34.0</td>\n",
       "      <td>0.897653</td>\n",
       "      <td>102.436738</td>\n",
       "      <td>42.0</td>\n",
       "      <td>5.391407</td>\n",
       "      <td>1428.0</td>\n",
       "    </tr>\n",
       "    <tr>\n",
       "      <th>14</th>\n",
       "      <td>114.947421</td>\n",
       "      <td>102.479976</td>\n",
       "      <td>0.5</td>\n",
       "      <td>1.0</td>\n",
       "      <td>0.05</td>\n",
       "      <td>0.01</td>\n",
       "      <td>0.05</td>\n",
       "      <td>108.534829</td>\n",
       "      <td>34.0</td>\n",
       "      <td>0.891538</td>\n",
       "      <td>103.108087</td>\n",
       "      <td>42.0</td>\n",
       "      <td>5.426741</td>\n",
       "      <td>1428.0</td>\n",
       "    </tr>\n",
       "    <tr>\n",
       "      <th>15</th>\n",
       "      <td>116.096896</td>\n",
       "      <td>102.818793</td>\n",
       "      <td>0.5</td>\n",
       "      <td>1.0</td>\n",
       "      <td>0.05</td>\n",
       "      <td>0.01</td>\n",
       "      <td>0.05</td>\n",
       "      <td>109.256317</td>\n",
       "      <td>34.0</td>\n",
       "      <td>0.885629</td>\n",
       "      <td>103.793501</td>\n",
       "      <td>42.0</td>\n",
       "      <td>5.462816</td>\n",
       "      <td>1428.0</td>\n",
       "    </tr>\n",
       "    <tr>\n",
       "      <th>16</th>\n",
       "      <td>117.257864</td>\n",
       "      <td>103.177483</td>\n",
       "      <td>0.5</td>\n",
       "      <td>1.0</td>\n",
       "      <td>0.05</td>\n",
       "      <td>0.01</td>\n",
       "      <td>0.05</td>\n",
       "      <td>109.992597</td>\n",
       "      <td>34.0</td>\n",
       "      <td>0.879920</td>\n",
       "      <td>104.492967</td>\n",
       "      <td>42.0</td>\n",
       "      <td>5.499630</td>\n",
       "      <td>1428.0</td>\n",
       "    </tr>\n",
       "    <tr>\n",
       "      <th>17</th>\n",
       "      <td>118.430443</td>\n",
       "      <td>103.555792</td>\n",
       "      <td>0.5</td>\n",
       "      <td>1.0</td>\n",
       "      <td>0.05</td>\n",
       "      <td>0.01</td>\n",
       "      <td>0.05</td>\n",
       "      <td>110.743661</td>\n",
       "      <td>34.0</td>\n",
       "      <td>0.874402</td>\n",
       "      <td>105.206478</td>\n",
       "      <td>42.0</td>\n",
       "      <td>5.537183</td>\n",
       "      <td>1428.0</td>\n",
       "    </tr>\n",
       "    <tr>\n",
       "      <th>18</th>\n",
       "      <td>119.614748</td>\n",
       "      <td>103.953478</td>\n",
       "      <td>0.5</td>\n",
       "      <td>1.0</td>\n",
       "      <td>0.05</td>\n",
       "      <td>0.01</td>\n",
       "      <td>0.05</td>\n",
       "      <td>111.509502</td>\n",
       "      <td>34.0</td>\n",
       "      <td>0.869069</td>\n",
       "      <td>105.934027</td>\n",
       "      <td>42.0</td>\n",
       "      <td>5.575475</td>\n",
       "      <td>1428.0</td>\n",
       "    </tr>\n",
       "    <tr>\n",
       "      <th>19</th>\n",
       "      <td>120.810895</td>\n",
       "      <td>104.370310</td>\n",
       "      <td>0.5</td>\n",
       "      <td>1.0</td>\n",
       "      <td>0.05</td>\n",
       "      <td>0.01</td>\n",
       "      <td>0.05</td>\n",
       "      <td>112.290118</td>\n",
       "      <td>34.0</td>\n",
       "      <td>0.863915</td>\n",
       "      <td>106.675612</td>\n",
       "      <td>42.0</td>\n",
       "      <td>5.614506</td>\n",
       "      <td>1428.0</td>\n",
       "    </tr>\n",
       "    <tr>\n",
       "      <th>20</th>\n",
       "      <td>122.019004</td>\n",
       "      <td>104.806070</td>\n",
       "      <td>0.5</td>\n",
       "      <td>1.0</td>\n",
       "      <td>0.05</td>\n",
       "      <td>0.01</td>\n",
       "      <td>0.05</td>\n",
       "      <td>113.085509</td>\n",
       "      <td>34.0</td>\n",
       "      <td>0.858932</td>\n",
       "      <td>107.431233</td>\n",
       "      <td>42.0</td>\n",
       "      <td>5.654275</td>\n",
       "      <td>1428.0</td>\n",
       "    </tr>\n",
       "    <tr>\n",
       "      <th>21</th>\n",
       "      <td>123.239194</td>\n",
       "      <td>105.260550</td>\n",
       "      <td>0.5</td>\n",
       "      <td>1.0</td>\n",
       "      <td>0.05</td>\n",
       "      <td>0.01</td>\n",
       "      <td>0.05</td>\n",
       "      <td>113.895678</td>\n",
       "      <td>34.0</td>\n",
       "      <td>0.854116</td>\n",
       "      <td>108.200894</td>\n",
       "      <td>42.0</td>\n",
       "      <td>5.694784</td>\n",
       "      <td>1428.0</td>\n",
       "    </tr>\n",
       "    <tr>\n",
       "      <th>22</th>\n",
       "      <td>124.471586</td>\n",
       "      <td>105.733554</td>\n",
       "      <td>0.5</td>\n",
       "      <td>1.0</td>\n",
       "      <td>0.05</td>\n",
       "      <td>0.01</td>\n",
       "      <td>0.05</td>\n",
       "      <td>114.720631</td>\n",
       "      <td>34.0</td>\n",
       "      <td>0.849459</td>\n",
       "      <td>108.984599</td>\n",
       "      <td>42.0</td>\n",
       "      <td>5.736032</td>\n",
       "      <td>1428.0</td>\n",
       "    </tr>\n",
       "    <tr>\n",
       "      <th>23</th>\n",
       "      <td>125.716302</td>\n",
       "      <td>106.224895</td>\n",
       "      <td>0.5</td>\n",
       "      <td>1.0</td>\n",
       "      <td>0.05</td>\n",
       "      <td>0.01</td>\n",
       "      <td>0.05</td>\n",
       "      <td>115.560378</td>\n",
       "      <td>34.0</td>\n",
       "      <td>0.844957</td>\n",
       "      <td>109.782359</td>\n",
       "      <td>42.0</td>\n",
       "      <td>5.778019</td>\n",
       "      <td>1428.0</td>\n",
       "    </tr>\n",
       "    <tr>\n",
       "      <th>24</th>\n",
       "      <td>126.973465</td>\n",
       "      <td>106.734397</td>\n",
       "      <td>0.5</td>\n",
       "      <td>1.0</td>\n",
       "      <td>0.05</td>\n",
       "      <td>0.01</td>\n",
       "      <td>0.05</td>\n",
       "      <td>116.414931</td>\n",
       "      <td>34.0</td>\n",
       "      <td>0.840604</td>\n",
       "      <td>110.594185</td>\n",
       "      <td>42.0</td>\n",
       "      <td>5.820747</td>\n",
       "      <td>1428.0</td>\n",
       "    </tr>\n",
       "    <tr>\n",
       "      <th>25</th>\n",
       "      <td>128.243200</td>\n",
       "      <td>107.261893</td>\n",
       "      <td>0.5</td>\n",
       "      <td>1.0</td>\n",
       "      <td>0.05</td>\n",
       "      <td>0.01</td>\n",
       "      <td>0.05</td>\n",
       "      <td>117.284305</td>\n",
       "      <td>34.0</td>\n",
       "      <td>0.836394</td>\n",
       "      <td>111.420090</td>\n",
       "      <td>42.0</td>\n",
       "      <td>5.864215</td>\n",
       "      <td>1428.0</td>\n",
       "    </tr>\n",
       "    <tr>\n",
       "      <th>26</th>\n",
       "      <td>129.525631</td>\n",
       "      <td>107.807224</td>\n",
       "      <td>0.5</td>\n",
       "      <td>1.0</td>\n",
       "      <td>0.05</td>\n",
       "      <td>0.01</td>\n",
       "      <td>0.05</td>\n",
       "      <td>118.168518</td>\n",
       "      <td>34.0</td>\n",
       "      <td>0.832323</td>\n",
       "      <td>112.260093</td>\n",
       "      <td>42.0</td>\n",
       "      <td>5.908426</td>\n",
       "      <td>1428.0</td>\n",
       "    </tr>\n",
       "    <tr>\n",
       "      <th>27</th>\n",
       "      <td>130.820888</td>\n",
       "      <td>108.370242</td>\n",
       "      <td>0.5</td>\n",
       "      <td>1.0</td>\n",
       "      <td>0.05</td>\n",
       "      <td>0.01</td>\n",
       "      <td>0.05</td>\n",
       "      <td>119.067591</td>\n",
       "      <td>34.0</td>\n",
       "      <td>0.828386</td>\n",
       "      <td>113.114212</td>\n",
       "      <td>42.0</td>\n",
       "      <td>5.953380</td>\n",
       "      <td>1428.0</td>\n",
       "    </tr>\n",
       "    <tr>\n",
       "      <th>28</th>\n",
       "      <td>132.129097</td>\n",
       "      <td>108.950808</td>\n",
       "      <td>0.5</td>\n",
       "      <td>1.0</td>\n",
       "      <td>0.05</td>\n",
       "      <td>0.01</td>\n",
       "      <td>0.05</td>\n",
       "      <td>119.981548</td>\n",
       "      <td>34.0</td>\n",
       "      <td>0.824578</td>\n",
       "      <td>113.982470</td>\n",
       "      <td>42.0</td>\n",
       "      <td>5.999077</td>\n",
       "      <td>1428.0</td>\n",
       "    </tr>\n",
       "  </tbody>\n",
       "</table>\n",
       "</div>"
      ],
      "text/plain": [
       "         LABOR     CAPITAL  ALFA    A  DEPRECIATION_RATE  LABOR_GROWTH  \\\n",
       "0   100.000000  100.000000   0.5  1.0               0.05          0.01   \n",
       "1   101.000000  100.025580   0.5  1.0               0.05          0.01   \n",
       "2   102.010000  100.076226   0.5  1.0               0.05          0.01   \n",
       "3   103.030100  100.151443   0.5  1.0               0.05          0.01   \n",
       "4   104.060401  100.250762   0.5  1.0               0.05          0.01   \n",
       "5   105.101005  100.373733   0.5  1.0               0.05          0.01   \n",
       "6   106.152015  100.519926   0.5  1.0               0.05          0.01   \n",
       "7   107.213535  100.688931   0.5  1.0               0.05          0.01   \n",
       "8   108.285671  100.880357   0.5  1.0               0.05          0.01   \n",
       "9   109.368527  101.093830   0.5  1.0               0.05          0.01   \n",
       "10  110.462213  101.328993   0.5  1.0               0.05          0.01   \n",
       "11  111.566835  101.585506   0.5  1.0               0.05          0.01   \n",
       "12  112.682503  101.863045   0.5  1.0               0.05          0.01   \n",
       "13  113.809328  102.161300   0.5  1.0               0.05          0.01   \n",
       "14  114.947421  102.479976   0.5  1.0               0.05          0.01   \n",
       "15  116.096896  102.818793   0.5  1.0               0.05          0.01   \n",
       "16  117.257864  103.177483   0.5  1.0               0.05          0.01   \n",
       "17  118.430443  103.555792   0.5  1.0               0.05          0.01   \n",
       "18  119.614748  103.953478   0.5  1.0               0.05          0.01   \n",
       "19  120.810895  104.370310   0.5  1.0               0.05          0.01   \n",
       "20  122.019004  104.806070   0.5  1.0               0.05          0.01   \n",
       "21  123.239194  105.260550   0.5  1.0               0.05          0.01   \n",
       "22  124.471586  105.733554   0.5  1.0               0.05          0.01   \n",
       "23  125.716302  106.224895   0.5  1.0               0.05          0.01   \n",
       "24  126.973465  106.734397   0.5  1.0               0.05          0.01   \n",
       "25  128.243200  107.261893   0.5  1.0               0.05          0.01   \n",
       "26  129.525631  107.807224   0.5  1.0               0.05          0.01   \n",
       "27  130.820888  108.370242   0.5  1.0               0.05          0.01   \n",
       "28  132.129097  108.950808   0.5  1.0               0.05          0.01   \n",
       "\n",
       "    SAVING_RATE      INCOME     B  CAPITAL_INTENSITY  CONSUMPTION   IBH  \\\n",
       "0          0.05    0.000000   0.0           0.000000     0.000000   0.0   \n",
       "1          0.05  100.511609  34.0           0.990352    95.486029  42.0   \n",
       "2          0.05  101.038487  34.0           0.981043    95.986562  42.0   \n",
       "3          0.05  101.580575  34.0           0.972060    96.501546  42.0   \n",
       "4          0.05  102.137821  34.0           0.963390    97.030930  42.0   \n",
       "5          0.05  102.710176  34.0           0.955022    97.574667  42.0   \n",
       "6          0.05  103.297593  34.0           0.946943    98.132713  42.0   \n",
       "7          0.05  103.900030  34.0           0.939144    98.705029  42.0   \n",
       "8          0.05  104.517449  34.0           0.931613    99.291576  42.0   \n",
       "9          0.05  105.149813  34.0           0.924341    99.892323  42.0   \n",
       "10         0.05  105.797092  34.0           0.917318   100.507238  42.0   \n",
       "11         0.05  106.459257  34.0           0.910535   101.136294  42.0   \n",
       "12         0.05  107.136282  34.0           0.903983   101.779468  42.0   \n",
       "13         0.05  107.828145  34.0           0.897653   102.436738  42.0   \n",
       "14         0.05  108.534829  34.0           0.891538   103.108087  42.0   \n",
       "15         0.05  109.256317  34.0           0.885629   103.793501  42.0   \n",
       "16         0.05  109.992597  34.0           0.879920   104.492967  42.0   \n",
       "17         0.05  110.743661  34.0           0.874402   105.206478  42.0   \n",
       "18         0.05  111.509502  34.0           0.869069   105.934027  42.0   \n",
       "19         0.05  112.290118  34.0           0.863915   106.675612  42.0   \n",
       "20         0.05  113.085509  34.0           0.858932   107.431233  42.0   \n",
       "21         0.05  113.895678  34.0           0.854116   108.200894  42.0   \n",
       "22         0.05  114.720631  34.0           0.849459   108.984599  42.0   \n",
       "23         0.05  115.560378  34.0           0.844957   109.782359  42.0   \n",
       "24         0.05  116.414931  34.0           0.840604   110.594185  42.0   \n",
       "25         0.05  117.284305  34.0           0.836394   111.420090  42.0   \n",
       "26         0.05  118.168518  34.0           0.832323   112.260093  42.0   \n",
       "27         0.05  119.067591  34.0           0.828386   113.114212  42.0   \n",
       "28         0.05  119.981548  34.0           0.824578   113.982470  42.0   \n",
       "\n",
       "    INVESTMENT   HORSE  \n",
       "0     0.000000     0.0  \n",
       "1     5.025580  1428.0  \n",
       "2     5.051924  1428.0  \n",
       "3     5.079029  1428.0  \n",
       "4     5.106891  1428.0  \n",
       "5     5.135509  1428.0  \n",
       "6     5.164880  1428.0  \n",
       "7     5.195002  1428.0  \n",
       "8     5.225872  1428.0  \n",
       "9     5.257491  1428.0  \n",
       "10    5.289855  1428.0  \n",
       "11    5.322963  1428.0  \n",
       "12    5.356814  1428.0  \n",
       "13    5.391407  1428.0  \n",
       "14    5.426741  1428.0  \n",
       "15    5.462816  1428.0  \n",
       "16    5.499630  1428.0  \n",
       "17    5.537183  1428.0  \n",
       "18    5.575475  1428.0  \n",
       "19    5.614506  1428.0  \n",
       "20    5.654275  1428.0  \n",
       "21    5.694784  1428.0  \n",
       "22    5.736032  1428.0  \n",
       "23    5.778019  1428.0  \n",
       "24    5.820747  1428.0  \n",
       "25    5.864215  1428.0  \n",
       "26    5.908426  1428.0  \n",
       "27    5.953380  1428.0  \n",
       "28    5.999077  1428.0  "
      ]
     },
     "execution_count": 53,
     "metadata": {},
     "output_type": "execute_result"
    }
   ],
   "source": [
    "result = msolow(df,keep='Baseline') # The model is simulated for all years possible \n",
    "result.head(29)"
   ]
  },
  {
   "cell_type": "markdown",
   "id": "71b35854",
   "metadata": {
    "slideshow": {
     "slide_type": "slide"
    }
   },
   "source": [
    "## Create a scenario and run again "
   ]
  },
  {
   "cell_type": "markdown",
   "id": "c213cb44",
   "metadata": {
    "slideshow": {
     "slide_type": "skip"
    }
   },
   "source": [
    ":::{margin} **dataframe.upd**\n",
    "When importing modelclass all pandas dataframes are enriched with a a handy way to create a new pandas dataframe with updated series. \n",
    "\n",
    "In this case df.upd will create a a new dataframe with updated LABOR_GROWTH \n",
    "\n",
    "For additional explanation look [here](../../howto/update/model%20update.ipynb)\n",
    ":::"
   ]
  },
  {
   "cell_type": "code",
   "execution_count": 54,
   "id": "635b1c17",
   "metadata": {
    "slideshow": {
     "slide_type": "fragment"
    }
   },
   "outputs": [],
   "source": [
    "dfscenario = df.upd('LABOR_GROWTH + 0.002')  # create a new dataframe, increase LABOR_GROWTH by 0.002\n",
    "scenario   = msolow(dfscenario,keep='Higher labor growth ') # simulate the model "
   ]
  },
  {
   "cell_type": "markdown",
   "id": "93220ba9",
   "metadata": {
    "slideshow": {
     "slide_type": "slide"
    }
   },
   "source": [
    "## Now the results are also embedded in msolow.  \n",
    "\n",
    "\n",
    " - ```.basedf``` contains the first run of the model \n",
    " - ```.lastdf``` contains the last run of the model \n",
    " \n",
    " Also in this case the keyword ```keep``` is used. This causes the results to be  stored in a dictionary ```msolow.keep_solutions```. This can be useful when comparing several scenarios. \n",
    " "
   ]
  },
  {
   "cell_type": "markdown",
   "id": "286a2013",
   "metadata": {
    "slideshow": {
     "slide_type": "slide"
    }
   },
   "source": [
    "## Inspect results  "
   ]
  },
  {
   "cell_type": "markdown",
   "id": "97c89420",
   "metadata": {
    "slideshow": {
     "slide_type": "fragment"
    }
   },
   "source": [
    "### Using the [ ] operator "
   ]
  },
  {
   "cell_type": "markdown",
   "id": "b8919dd3",
   "metadata": {
    "slideshow": {
     "slide_type": "fragment"
    }
   },
   "source": [
    "We can select the variables of interest with wildcards. This will operate the results stored in ```basedf``` and ```.lastdf```"
   ]
  },
  {
   "cell_type": "markdown",
   "id": "6d08b713",
   "metadata": {
    "slideshow": {
     "slide_type": "skip"
    }
   },
   "source": [
    "#### Look at variables starting with a C "
   ]
  },
  {
   "cell_type": "code",
   "execution_count": 55,
   "id": "66dcf8a2",
   "metadata": {
    "slideshow": {
     "slide_type": "skip"
    }
   },
   "outputs": [
    {
     "data": {
      "application/vnd.jupyter.widget-view+json": {
       "model_id": "82c025f336e44715b59db9fbb83c947b",
       "version_major": 2,
       "version_minor": 0
      },
      "text/plain": [
       "Tab(children=(Tab(children=(HTML(value='<?xml version=\"1.0\" encoding=\"utf-8\" standalone=\"no\"?>\\n<!DOCTYPE svg …"
      ]
     },
     "metadata": {},
     "output_type": "display_data"
    },
    {
     "data": {
      "text/html": [],
      "text/plain": []
     },
     "execution_count": 55,
     "metadata": {},
     "output_type": "execute_result"
    }
   ],
   "source": [
    "msolow['#ENDO']"
   ]
  },
  {
   "cell_type": "markdown",
   "id": "a00c9c3f",
   "metadata": {
    "slideshow": {
     "slide_type": "slide"
    }
   },
   "source": [
    "#### Look at all endogenous variables"
   ]
  },
  {
   "cell_type": "code",
   "execution_count": 56,
   "id": "15c25aa2",
   "metadata": {},
   "outputs": [
    {
     "data": {
      "image/png": "[encoded data removed]",
      "text/plain": [
       "<Figure size 1000x200 with 2 Axes>"
      ]
     },
     "execution_count": 56,
     "metadata": {},
     "output_type": "execute_result"
    },
    {
     "data": {
      "image/png": "[encoded data removed]",
      "text/plain": [
       "<Figure size 1000x200 with 2 Axes>"
      ]
     },
     "metadata": {},
     "output_type": "display_data"
    }
   ],
   "source": [
    "msolow['labor*'].dif.plot() "
   ]
  },
  {
   "cell_type": "markdown",
   "id": "019b6732",
   "metadata": {
    "slideshow": {
     "slide_type": "slide"
    }
   },
   "source": [
    "### Using the keept solutions \n",
    "As mentioned above, because the keyword ```keep``` was used. The results are also stored in a dictionary. These data can \n",
    "also be used for charting. \n",
    "\n",
    "The reason for placing the results in a dictionary is to enable comparison of many scenarios, not just the first and the last. "
   ]
  },
  {
   "cell_type": "code",
   "execution_count": 57,
   "id": "0134a940",
   "metadata": {
    "scrolled": false,
    "slideshow": {
     "slide_type": "subslide"
    }
   },
   "outputs": [
    {
     "data": {
      "image/png": "[encoded data removed]",
      "text/plain": [
       "<Figure size 1000x600 with 1 Axes>"
      ]
     },
     "metadata": {},
     "output_type": "display_data"
    },
    {
     "data": {
      "image/png": "[encoded data removed]",
      "text/plain": [
       "<Figure size 1000x600 with 1 Axes>"
      ]
     },
     "metadata": {},
     "output_type": "display_data"
    }
   ],
   "source": [
    "with msolow.set_smpl(1,30):\n",
    "    msolow.keep_plot('income con*' ); "
   ]
  },
  {
   "cell_type": "code",
   "execution_count": 58,
   "id": "9e61d20f",
   "metadata": {},
   "outputs": [
    {
     "name": "stdout",
     "output_type": "stream",
     "text": [
      "apprun\n",
      "No Dash, str(e)\n"
     ]
    }
   ],
   "source": [
    "msolow.modeldash('INCOME',jupyter=1)\n"
   ]
  },
  {
   "cell_type": "markdown",
   "id": "ee8c5e59",
   "metadata": {
    "cell_style": "center",
    "slideshow": {
     "slide_type": "slide"
    }
   },
   "source": [
    "## More advanced topics"
   ]
  },
  {
   "cell_type": "markdown",
   "id": "c9480e97",
   "metadata": {
    "slideshow": {
     "slide_type": "subslide"
    }
   },
   "source": [
    "### The logical stucture \n",
    "Now the model has been analyzed, and the structure can be displayed.\n",
    "\n",
    "You will find more on the logical structure [here](../../howto/structure/Logical_structure.ipynb)"
   ]
  },
  {
   "cell_type": "markdown",
   "id": "a5f71ad7",
   "metadata": {
    "slideshow": {
     "slide_type": "slide"
    }
   },
   "source": [
    "#### Model structure"
   ]
  },
  {
   "cell_type": "code",
   "execution_count": 59,
   "id": "15f19d5c",
   "metadata": {
    "scrolled": false,
    "slideshow": {
     "slide_type": "fragment"
    }
   },
   "outputs": [
    {
     "data": {
      "image/svg+xml": [
       "<svg xmlns=\"http://www.w3.org/2000/svg\" xmlns:xlink=\"http://www.w3.org/1999/xlink\" width=\"1034pt\" height=\"332pt\" viewBox=\"0.00 0.00 1034.00 332.00\">\n",
       "<g id=\"graph0\" class=\"graph\" transform=\"scale(1 1) rotate(0) translate(4 328)\">\n",
       "<title>TD</title>\n",
       "<polygon fill=\"white\" stroke=\"none\" points=\"-4,4 -4,-328 1030,-328 1030,4 -4,4\"/>\n",
       "<text text-anchor=\"middle\" x=\"513\" y=\"-7.8\" font-family=\"Times New Roman,serif\" font-size=\"14.00\">Model Structure</text>\n",
       "<!-- HORSE -->\n",
       "<g id=\"node1\" class=\"node\">\n",
       "<title>HORSE</title>\n",
       "<g id=\"a_node1\"><a xlink:title=\"HORSE\n",
       "FRML &lt;&gt; HORSE =  IBH *B  $\">\n",
       "<polygon fill=\"#63b8ff\" stroke=\"black\" points=\"357.5,-310 296.5,-310 296.5,-274 357.5,-274 357.5,-310\"/>\n",
       "<text text-anchor=\"start\" x=\"303\" y=\"-287.8\" font-family=\"Times New Roman,serif\" font-size=\"14.00\" fill=\"blue\">HORSE:</text>\n",
       "</a>\n",
       "</g>\n",
       "</g>\n",
       "<!-- INCOME -->\n",
       "<g id=\"node2\" class=\"node\">\n",
       "<title>INCOME</title>\n",
       "<g id=\"a_node2\"><a xlink:title=\"INCOME\n",
       "FRML &lt;&gt; INCOME          = A  * CAPITAL**ALFA * LABOR **(1-ALFA)  $\">\n",
       "<polygon fill=\"#63b8ff\" stroke=\"black\" points=\"362,-134 292,-134 292,-98 362,-98 362,-134\"/>\n",
       "<text text-anchor=\"start\" x=\"298\" y=\"-111.8\" font-family=\"Times New Roman,serif\" font-size=\"14.00\" fill=\"blue\">INCOME:</text>\n",
       "</a>\n",
       "</g>\n",
       "</g>\n",
       "<!-- CONSUMPTION -->\n",
       "<g id=\"node8\" class=\"node\">\n",
       "<title>CONSUMPTION</title>\n",
       "<g id=\"a_node8\"><a xlink:title=\"CONSUMPTION\n",
       "FRML &lt;&gt; CONSUMPTION     = (1-SAVING_RATE)  * INCOME  $\">\n",
       "<polygon fill=\"#63b8ff\" stroke=\"black\" points=\"542,-63 427,-63 427,-27 542,-27 542,-63\"/>\n",
       "<text text-anchor=\"start\" x=\"433.5\" y=\"-40.8\" font-family=\"Times New Roman,serif\" font-size=\"14.00\" fill=\"blue\">CONSUMPTION:</text>\n",
       "</a>\n",
       "</g>\n",
       "</g>\n",
       "<!-- INCOME&#45;&gt;CONSUMPTION -->\n",
       "<g id=\"edge5\" class=\"edge\">\n",
       "<title>INCOME-&gt;CONSUMPTION</title>\n",
       "<g id=\"a_edge5\"><a xlink:href=\"bogus\" xlink:title=\" INCOME -&gt; CONSUMPTION Min. att. 100%  max: 100%\">\n",
       "<path fill=\"none\" stroke=\"black\" stroke-width=\"8\" d=\"M362.13,-100.42C383.44,-90.69 411.21,-78.01 434.81,-67.23\"/>\n",
       "<polygon fill=\"black\" stroke=\"black\" stroke-width=\"8\" points=\"437.77,-73.57 443.96,-63.05 431.96,-60.84 437.77,-73.57\"/>\n",
       "</a>\n",
       "</g>\n",
       "</g>\n",
       "<!-- INVESTMENT -->\n",
       "<g id=\"node13\" class=\"node\">\n",
       "<title>INVESTMENT</title>\n",
       "<g id=\"a_node13\"><a xlink:title=\"INVESTMENT\n",
       "FRML &lt;&gt; INVESTMENT      = INCOME - CONSUMPTION    $\">\n",
       "<polygon fill=\"#63b8ff\" stroke=\"black\" points=\"706.5,-59 603.5,-59 603.5,-23 706.5,-23 706.5,-59\"/>\n",
       "<text text-anchor=\"start\" x=\"610\" y=\"-36.8\" font-family=\"Times New Roman,serif\" font-size=\"14.00\" fill=\"blue\">INVESTMENT:</text>\n",
       "</a>\n",
       "</g>\n",
       "</g>\n",
       "<!-- INCOME&#45;&gt;INVESTMENT -->\n",
       "<g id=\"edge14\" class=\"edge\">\n",
       "<title>INCOME-&gt;INVESTMENT</title>\n",
       "<g id=\"a_edge14\"><a xlink:href=\"bogus\" xlink:title=\" INCOME -&gt; INVESTMENT Min. att. 2000%  max: 2000%\">\n",
       "<path fill=\"none\" stroke=\"black\" stroke-width=\"8\" d=\"M362.26,-109.69C404.64,-101.72 478.94,-87.19 542,-72 558.89,-67.93 577.09,-63.09 593.8,-58.46\"/>\n",
       "<polygon fill=\"black\" stroke=\"black\" stroke-width=\"8\" points=\"595.7,-65.2 603.45,-55.77 591.94,-51.72 595.7,-65.2\"/>\n",
       "</a>\n",
       "</g>\n",
       "</g>\n",
       "<!-- DEPRECIATION_RATE -->\n",
       "<g id=\"node3\" class=\"node\">\n",
       "<title>DEPRECIATION_RATE</title>\n",
       "<g id=\"a_node3\"><a xlink:title=\"DEPRECIATION_RATE\n",
       "Exogen\">\n",
       "<polygon fill=\"yellow\" stroke=\"black\" points=\"732,-113 578,-113 578,-77 732,-77 732,-113\"/>\n",
       "<text text-anchor=\"start\" x=\"584\" y=\"-90.8\" font-family=\"Times New Roman,serif\" font-size=\"14.00\" fill=\"blue\">DEPRECIATION_RATE:</text>\n",
       "</a>\n",
       "</g>\n",
       "</g>\n",
       "<!-- CAPITAL -->\n",
       "<g id=\"node4\" class=\"node\">\n",
       "<title>CAPITAL</title>\n",
       "<g id=\"a_node4\"><a xlink:title=\"CAPITAL\n",
       "FRML &lt;&gt; CAPITAL=CAPITAL(-1)+(INVESTMENT-DEPRECIATION_RATE * CAPITAL(-1))$\">\n",
       "<polygon fill=\"#63b8ff\" stroke=\"black\" points=\"841,-128 768,-128 768,-92 841,-92 841,-128\"/>\n",
       "<text text-anchor=\"start\" x=\"774.5\" y=\"-105.8\" font-family=\"Times New Roman,serif\" font-size=\"14.00\" fill=\"blue\">CAPITAL:</text>\n",
       "</a>\n",
       "</g>\n",
       "</g>\n",
       "<!-- DEPRECIATION_RATE&#45;&gt;CAPITAL -->\n",
       "<g id=\"edge18\" class=\"edge\">\n",
       "<title>DEPRECIATION_RATE-&gt;CAPITAL</title>\n",
       "<g id=\"a_edge18\"><a xlink:href=\"bogus\" xlink:title=\" DEPRECIATION_RATE -&gt; CAPITAL Min. att. 0%  max: 0%\">\n",
       "<path fill=\"none\" stroke=\"black\" d=\"M732.34,-102.76C741.04,-103.65 749.69,-104.53 757.81,-105.35\"/>\n",
       "<polygon fill=\"black\" stroke=\"black\" points=\"757.47,-108.84 767.77,-106.37 758.18,-101.87 757.47,-108.84\"/>\n",
       "</a>\n",
       "</g>\n",
       "</g>\n",
       "<!-- CAPITAL&#45;&gt;INCOME -->\n",
       "<g id=\"edge8\" class=\"edge\">\n",
       "<title>CAPITAL-&gt;INCOME</title>\n",
       "<g id=\"a_edge8\"><a xlink:href=\"bogus\" xlink:title=\" CAPITAL -&gt; INCOME Min. att. 3%  max: 54%\">\n",
       "<path fill=\"none\" stroke=\"black\" stroke-width=\"5.42\" d=\"M767.64,-117.22C756.29,-119.18 743.67,-121.03 732,-122 601.74,-132.85 447.07,-124.73 372.53,-119.5\"/>\n",
       "<polygon fill=\"black\" stroke=\"black\" stroke-width=\"5.42\" points=\"372.44,-114.74 362.13,-118.76 371.76,-124.2 372.44,-114.74\"/>\n",
       "</a>\n",
       "</g>\n",
       "</g>\n",
       "<!-- CAPITAL(&#45;1) -->\n",
       "<g id=\"node6\" class=\"node\">\n",
       "<title>CAPITAL(-1)</title>\n",
       "<g id=\"a_node6\"><a xlink:title=\"CAPITAL\n",
       "FRML &lt;&gt; CAPITAL=CAPITAL(-1)+(INVESTMENT-DEPRECIATION_RATE * CAPITAL(-1))$\">\n",
       "<polygon fill=\"springgreen\" stroke=\"black\" points=\"1026,-128 877,-128 877,-92 1026,-92 1026,-128\"/>\n",
       "<text text-anchor=\"start\" x=\"883.5\" y=\"-105.8\" font-family=\"Times New Roman,serif\" font-size=\"14.00\" fill=\"blue\">CAPITAL(-1):CAPITAL</text>\n",
       "</a>\n",
       "</g>\n",
       "</g>\n",
       "<!-- CAPITAL&#45;&gt;CAPITAL(&#45;1) -->\n",
       "<g id=\"edge6\" class=\"edge\">\n",
       "<title>CAPITAL-&gt;CAPITAL(-1)</title>\n",
       "<g id=\"a_edge6\"><a xlink:href=\"bogus\" xlink:title=\" CAPITAL -&gt; CAPITAL(-1) Min. att. 0%  max: 94%\">\n",
       "<path fill=\"none\" stroke=\"black\" stroke-width=\"8\" d=\"M841.34,-104.08C849.2,-103.69 857.84,-103.44 866.72,-103.32\"/>\n",
       "<polygon fill=\"black\" stroke=\"black\" stroke-width=\"8\" points=\"866.85,-110.32 876.8,-103.25 866.75,-96.32 866.85,-110.32\"/>\n",
       "</a>\n",
       "</g>\n",
       "</g>\n",
       "<!-- CAPITAL_INTENSITY -->\n",
       "<g id=\"node16\" class=\"node\">\n",
       "<title>CAPITAL_INTENSITY</title>\n",
       "<g id=\"a_node16\"><a xlink:title=\"CAPITAL_INTENSITY\n",
       "FRML &lt;&gt; CAPITAL_INTENSITY = CAPITAL/LABOR  $\">\n",
       "<polygon fill=\"#63b8ff\" stroke=\"black\" points=\"1026,-190 877,-190 877,-154 1026,-154 1026,-190\"/>\n",
       "<text text-anchor=\"start\" x=\"883.5\" y=\"-167.8\" font-family=\"Times New Roman,serif\" font-size=\"14.00\" fill=\"blue\">CAPITAL_INTENSITY:</text>\n",
       "</a>\n",
       "</g>\n",
       "</g>\n",
       "<!-- CAPITAL&#45;&gt;CAPITAL_INTENSITY -->\n",
       "<g id=\"edge20\" class=\"edge\">\n",
       "<title>CAPITAL-&gt;CAPITAL_INTENSITY</title>\n",
       "<g id=\"a_edge20\"><a xlink:href=\"bogus\" xlink:title=\" CAPITAL -&gt; CAPITAL_INTENSITY Min. att. -647%  max: -3%\">\n",
       "<path fill=\"none\" stroke=\"black\" stroke-width=\"8\" d=\"M841.34,-125.33C858.7,-132.75 879.87,-141.8 898.93,-149.95\"/>\n",
       "<polygon fill=\"black\" stroke=\"black\" stroke-width=\"8\" points=\"896.43,-156.49 908.38,-153.99 901.94,-143.62 896.43,-156.49\"/>\n",
       "</a>\n",
       "</g>\n",
       "</g>\n",
       "<!-- B -->\n",
       "<g id=\"node5\" class=\"node\">\n",
       "<title>B</title>\n",
       "<g id=\"a_node5\"><a xlink:title=\"B\n",
       "FRML &lt;&gt; IBH,B = ANSWER(LABOR_GROWTH) $\">\n",
       "<polygon fill=\"#63b8ff\" stroke=\"black\" points=\"223,-324 169,-324 169,-288 223,-288 223,-324\"/>\n",
       "<text text-anchor=\"start\" x=\"190\" y=\"-301.8\" font-family=\"Times New Roman,serif\" font-size=\"14.00\" fill=\"blue\">B:</text>\n",
       "</a>\n",
       "</g>\n",
       "</g>\n",
       "<!-- B&#45;&gt;HORSE -->\n",
       "<g id=\"edge21\" class=\"edge\">\n",
       "<title>B-&gt;HORSE</title>\n",
       "<g id=\"a_edge21\"><a xlink:href=\"bogus\" xlink:title=\" B -&gt; HORSE Min. att. 0%  max: 0%\">\n",
       "<path fill=\"none\" stroke=\"black\" d=\"M223.11,-303.17C241.24,-301.2 265.75,-298.54 286.3,-296.31\"/>\n",
       "<polygon fill=\"black\" stroke=\"black\" points=\"286.76,-299.78 296.32,-295.22 286,-292.82 286.76,-299.78\"/>\n",
       "</a>\n",
       "</g>\n",
       "</g>\n",
       "<!-- CAPITAL(&#45;1)&#45;&gt;CAPITAL -->\n",
       "<g id=\"edge15\" class=\"edge\">\n",
       "<title>CAPITAL(-1)-&gt;CAPITAL</title>\n",
       "<g id=\"a_edge15\"><a xlink:href=\"bogus\" xlink:title=\"NA\">\n",
       "<path fill=\"none\" stroke=\"black\" stroke-width=\"0.5\" d=\"M876.8,-116.75C868.22,-116.74 859.66,-116.6 851.6,-116.34\"/>\n",
       "<polygon fill=\"black\" stroke=\"black\" stroke-width=\"0.5\" points=\"851.48,-112.83 841.34,-115.92 851.19,-119.82 851.48,-112.83\"/>\n",
       "</a>\n",
       "</g>\n",
       "</g>\n",
       "<!-- LABOR(&#45;1) -->\n",
       "<g id=\"node7\" class=\"node\">\n",
       "<title>LABOR(-1)</title>\n",
       "<g id=\"a_node7\"><a xlink:title=\"LABOR\n",
       "FRML &lt;&gt; LABOR=LABOR(-1)+(LABOR_DIF(LABOR_GROWTH,LABOR(-1)))$\">\n",
       "<polygon fill=\"springgreen\" stroke=\"black\" points=\"391,-243 263,-243 263,-207 391,-207 391,-243\"/>\n",
       "<text text-anchor=\"start\" x=\"269\" y=\"-220.8\" font-family=\"Times New Roman,serif\" font-size=\"14.00\" fill=\"blue\">LABOR(-1):LABOR</text>\n",
       "</a>\n",
       "</g>\n",
       "</g>\n",
       "<!-- LABOR -->\n",
       "<g id=\"node14\" class=\"node\">\n",
       "<title>LABOR</title>\n",
       "<g id=\"a_node14\"><a xlink:title=\"LABOR\n",
       "FRML &lt;&gt; LABOR=LABOR(-1)+(LABOR_DIF(LABOR_GROWTH,LABOR(-1)))$\">\n",
       "<polygon fill=\"#63b8ff\" stroke=\"black\" points=\"227,-216 165,-216 165,-180 227,-180 227,-216\"/>\n",
       "<text text-anchor=\"start\" x=\"171\" y=\"-193.8\" font-family=\"Times New Roman,serif\" font-size=\"14.00\" fill=\"blue\">LABOR:</text>\n",
       "</a>\n",
       "</g>\n",
       "</g>\n",
       "<!-- LABOR(&#45;1)&#45;&gt;LABOR -->\n",
       "<g id=\"edge3\" class=\"edge\">\n",
       "<title>LABOR(-1)-&gt;LABOR</title>\n",
       "<g id=\"a_edge3\"><a xlink:href=\"bogus\" xlink:title=\"NA\">\n",
       "<path fill=\"none\" stroke=\"black\" stroke-width=\"0.5\" d=\"M262.91,-218.54C254.07,-216.71 245.19,-214.7 236.95,-212.66\"/>\n",
       "<polygon fill=\"black\" stroke=\"black\" stroke-width=\"0.5\" points=\"237.8,-209.26 227.24,-210.15 236.05,-216.04 237.8,-209.26\"/>\n",
       "</a>\n",
       "</g>\n",
       "</g>\n",
       "<!-- CONSUMPTION&#45;&gt;INVESTMENT -->\n",
       "<g id=\"edge12\" class=\"edge\">\n",
       "<title>CONSUMPTION-&gt;INVESTMENT</title>\n",
       "<g id=\"a_edge12\"><a xlink:href=\"bogus\" xlink:title=\" CONSUMPTION -&gt; INVESTMENT Min. att. -1900%  max: -1900%\">\n",
       "<path fill=\"none\" stroke=\"black\" stroke-width=\"8\" d=\"M542.08,-43.66C558.47,-43.27 576.43,-42.84 593.07,-42.45\"/>\n",
       "<polygon fill=\"black\" stroke=\"black\" stroke-width=\"8\" points=\"593.41,-49.44 603.24,-42.21 593.07,-35.44 593.41,-49.44\"/>\n",
       "</a>\n",
       "</g>\n",
       "</g>\n",
       "<!-- SAVING_RATE -->\n",
       "<g id=\"node9\" class=\"node\">\n",
       "<title>SAVING_RATE</title>\n",
       "<g id=\"a_node9\"><a xlink:title=\"SAVING_RATE\n",
       "Exogen\">\n",
       "<polygon fill=\"yellow\" stroke=\"black\" points=\"380,-63 274,-63 274,-27 380,-27 380,-63\"/>\n",
       "<text text-anchor=\"start\" x=\"280\" y=\"-40.8\" font-family=\"Times New Roman,serif\" font-size=\"14.00\" fill=\"blue\">SAVING_RATE:</text>\n",
       "</a>\n",
       "</g>\n",
       "</g>\n",
       "<!-- SAVING_RATE&#45;&gt;CONSUMPTION -->\n",
       "<g id=\"edge10\" class=\"edge\">\n",
       "<title>SAVING_RATE-&gt;CONSUMPTION</title>\n",
       "<g id=\"a_edge10\"><a xlink:href=\"bogus\" xlink:title=\" SAVING_RATE -&gt; CONSUMPTION Min. att. 0%  max: 0%\">\n",
       "<path fill=\"none\" stroke=\"black\" d=\"M380.21,-45C391.93,-45 404.52,-45 416.74,-45\"/>\n",
       "<polygon fill=\"black\" stroke=\"black\" points=\"416.89,-48.5 426.89,-45 416.89,-41.5 416.89,-48.5\"/>\n",
       "</a>\n",
       "</g>\n",
       "</g>\n",
       "<!-- IBH -->\n",
       "<g id=\"node10\" class=\"node\">\n",
       "<title>IBH</title>\n",
       "<g id=\"a_node10\"><a xlink:title=\"IBH\n",
       "FRML &lt;&gt; IBH,B = ANSWER(LABOR_GROWTH) $\">\n",
       "<polygon fill=\"#63b8ff\" stroke=\"black\" points=\"223,-270 169,-270 169,-234 223,-234 223,-270\"/>\n",
       "<text text-anchor=\"start\" x=\"182\" y=\"-247.8\" font-family=\"Times New Roman,serif\" font-size=\"14.00\" fill=\"blue\">IBH:</text>\n",
       "</a>\n",
       "</g>\n",
       "</g>\n",
       "<!-- IBH&#45;&gt;HORSE -->\n",
       "<g id=\"edge19\" class=\"edge\">\n",
       "<title>IBH-&gt;HORSE</title>\n",
       "<g id=\"a_edge19\"><a xlink:href=\"bogus\" xlink:title=\" IBH -&gt; HORSE Min. att. 0%  max: 0%\">\n",
       "<path fill=\"none\" stroke=\"black\" d=\"M223.11,-260.09C241.33,-265.74 265.98,-273.39 286.58,-279.78\"/>\n",
       "<polygon fill=\"black\" stroke=\"black\" points=\"285.74,-283.18 296.32,-282.8 287.81,-276.49 285.74,-283.18\"/>\n",
       "</a>\n",
       "</g>\n",
       "</g>\n",
       "<!-- A -->\n",
       "<g id=\"node11\" class=\"node\">\n",
       "<title>A</title>\n",
       "<g id=\"a_node11\"><a xlink:title=\"A\n",
       "Exogen\">\n",
       "<polygon fill=\"yellow\" stroke=\"black\" points=\"223,-99 169,-99 169,-63 223,-63 223,-99\"/>\n",
       "<text text-anchor=\"start\" x=\"189\" y=\"-76.8\" font-family=\"Times New Roman,serif\" font-size=\"14.00\" fill=\"blue\">A:</text>\n",
       "</a>\n",
       "</g>\n",
       "</g>\n",
       "<!-- A&#45;&gt;INCOME -->\n",
       "<g id=\"edge9\" class=\"edge\">\n",
       "<title>A-&gt;INCOME</title>\n",
       "<g id=\"a_edge9\"><a xlink:href=\"bogus\" xlink:title=\" A -&gt; INCOME Min. att. -0%  max: -0%\">\n",
       "<path fill=\"none\" stroke=\"black\" d=\"M223.11,-88.08C239.91,-92.64 262.17,-98.68 281.7,-103.98\"/>\n",
       "<polygon fill=\"black\" stroke=\"black\" points=\"281.04,-107.43 291.61,-106.67 282.88,-100.67 281.04,-107.43\"/>\n",
       "</a>\n",
       "</g>\n",
       "</g>\n",
       "<!-- ALFA -->\n",
       "<g id=\"node12\" class=\"node\">\n",
       "<title>ALFA</title>\n",
       "<g id=\"a_node12\"><a xlink:title=\"ALFA\n",
       "Exogen\">\n",
       "<polygon fill=\"yellow\" stroke=\"black\" points=\"223,-153 169,-153 169,-117 223,-117 223,-153\"/>\n",
       "<text text-anchor=\"start\" x=\"177\" y=\"-130.8\" font-family=\"Times New Roman,serif\" font-size=\"14.00\" fill=\"blue\">ALFA:</text>\n",
       "</a>\n",
       "</g>\n",
       "</g>\n",
       "<!-- ALFA&#45;&gt;INCOME -->\n",
       "<g id=\"edge11\" class=\"edge\">\n",
       "<title>ALFA-&gt;INCOME</title>\n",
       "<g id=\"a_edge11\"><a xlink:href=\"bogus\" xlink:title=\" ALFA -&gt; INCOME Min. att. -0%  max: -0%\">\n",
       "<path fill=\"none\" stroke=\"black\" d=\"M223.11,-131.16C239.91,-128.68 262.17,-125.4 281.7,-122.53\"/>\n",
       "<polygon fill=\"black\" stroke=\"black\" points=\"282.23,-125.99 291.61,-121.07 281.21,-119.06 282.23,-125.99\"/>\n",
       "</a>\n",
       "</g>\n",
       "</g>\n",
       "<!-- INVESTMENT&#45;&gt;CAPITAL -->\n",
       "<g id=\"edge1\" class=\"edge\">\n",
       "<title>INVESTMENT-&gt;CAPITAL</title>\n",
       "<g id=\"a_edge1\"><a xlink:href=\"bogus\" xlink:title=\" INVESTMENT -&gt; CAPITAL Min. att. 6%  max: 100%\">\n",
       "<path fill=\"none\" stroke=\"black\" stroke-width=\"8\" d=\"M706.82,-57.54C715.34,-60.74 724,-64.27 732,-68 743.62,-73.42 755.81,-80.15 766.77,-86.62\"/>\n",
       "<polygon fill=\"black\" stroke=\"black\" stroke-width=\"8\" points=\"763.46,-92.81 775.64,-91.97 770.68,-80.81 763.46,-92.81\"/>\n",
       "</a>\n",
       "</g>\n",
       "</g>\n",
       "<!-- LABOR&#45;&gt;INCOME -->\n",
       "<g id=\"edge17\" class=\"edge\">\n",
       "<title>LABOR-&gt;INCOME</title>\n",
       "<g id=\"a_edge17\"><a xlink:href=\"bogus\" xlink:title=\" LABOR -&gt; INCOME Min. att. 59%  max: 97%\">\n",
       "<path fill=\"none\" stroke=\"black\" stroke-width=\"8\" d=\"M225.63,-179.8C244.25,-167.96 268.72,-152.41 288.84,-139.62\"/>\n",
       "<polygon fill=\"black\" stroke=\"black\" stroke-width=\"8\" points=\"292.77,-145.42 297.45,-134.15 285.26,-133.6 292.77,-145.42\"/>\n",
       "</a>\n",
       "</g>\n",
       "</g>\n",
       "<!-- LABOR&#45;&gt;LABOR(&#45;1) -->\n",
       "<g id=\"edge2\" class=\"edge\">\n",
       "<title>LABOR-&gt;LABOR(-1)</title>\n",
       "<g id=\"a_edge2\"><a xlink:href=\"bogus\" xlink:title=\" LABOR -&gt; LABOR(-1) Min. att. 0%  max: 100%\">\n",
       "<path fill=\"none\" stroke=\"black\" stroke-width=\"8\" d=\"M227.24,-198.51C237.6,-200.06 249.62,-202.26 261.63,-204.78\"/>\n",
       "<polygon fill=\"black\" stroke=\"black\" stroke-width=\"8\" points=\"260.42,-211.68 271.68,-206.96 263.39,-198 260.42,-211.68\"/>\n",
       "</a>\n",
       "</g>\n",
       "</g>\n",
       "<!-- LABOR&#45;&gt;CAPITAL_INTENSITY -->\n",
       "<g id=\"edge4\" class=\"edge\">\n",
       "<title>LABOR-&gt;CAPITAL_INTENSITY</title>\n",
       "<g id=\"a_edge4\"><a xlink:href=\"bogus\" xlink:title=\" LABOR -&gt; CAPITAL_INTENSITY Min. att. 103%  max: 1269%\">\n",
       "<path fill=\"none\" stroke=\"black\" stroke-width=\"8\" d=\"M227.07,-194.69C279.2,-189.25 389.78,-179 483.5,-179 483.5,-179 483.5,-179 656,-179 727.19,-179 808.03,-176.93 866.98,-175.04\"/>\n",
       "<polygon fill=\"black\" stroke=\"black\" stroke-width=\"8\" points=\"867.22,-182.04 876.99,-174.72 866.76,-168.05 867.22,-182.04\"/>\n",
       "</a>\n",
       "</g>\n",
       "</g>\n",
       "<!-- LABOR_GROWTH -->\n",
       "<g id=\"node15\" class=\"node\">\n",
       "<title>LABOR_GROWTH</title>\n",
       "<g id=\"a_node15\"><a xlink:title=\"LABOR_GROWTH\n",
       "Exogen\">\n",
       "<polygon fill=\"yellow\" stroke=\"black\" points=\"129,-270 0,-270 0,-234 129,-234 129,-270\"/>\n",
       "<text text-anchor=\"start\" x=\"6.5\" y=\"-247.8\" font-family=\"Times New Roman,serif\" font-size=\"14.00\" fill=\"blue\">LABOR_GROWTH:</text>\n",
       "</a>\n",
       "</g>\n",
       "</g>\n",
       "<!-- LABOR_GROWTH&#45;&gt;B -->\n",
       "<g id=\"edge16\" class=\"edge\">\n",
       "<title>LABOR_GROWTH-&gt;B</title>\n",
       "<g id=\"a_edge16\"><a xlink:href=\"bogus\" xlink:title=\" LABOR_GROWTH -&gt; B Min. att. 0%  max: 0%\">\n",
       "<path fill=\"none\" stroke=\"black\" d=\"M108.98,-270.13C125.41,-276.98 143.9,-284.69 159.51,-291.2\"/>\n",
       "<polygon fill=\"black\" stroke=\"black\" points=\"158.24,-294.46 168.81,-295.08 160.93,-288 158.24,-294.46\"/>\n",
       "</a>\n",
       "</g>\n",
       "</g>\n",
       "<!-- LABOR_GROWTH&#45;&gt;IBH -->\n",
       "<g id=\"edge13\" class=\"edge\">\n",
       "<title>LABOR_GROWTH-&gt;IBH</title>\n",
       "<g id=\"a_edge13\"><a xlink:href=\"bogus\" xlink:title=\" LABOR_GROWTH -&gt; IBH Min. att. 0%  max: 0%\">\n",
       "<path fill=\"none\" stroke=\"black\" d=\"M129.11,-252C139.34,-252 149.6,-252 158.88,-252\"/>\n",
       "<polygon fill=\"black\" stroke=\"black\" points=\"158.88,-255.5 168.88,-252 158.88,-248.5 158.88,-255.5\"/>\n",
       "</a>\n",
       "</g>\n",
       "</g>\n",
       "<!-- LABOR_GROWTH&#45;&gt;LABOR -->\n",
       "<g id=\"edge7\" class=\"edge\">\n",
       "<title>LABOR_GROWTH-&gt;LABOR</title>\n",
       "<g id=\"a_edge7\"><a xlink:href=\"bogus\" xlink:title=\" LABOR_GROWTH -&gt; LABOR Min. att. 0%  max: 100%\">\n",
       "<path fill=\"none\" stroke=\"black\" stroke-width=\"8\" d=\"M108.98,-233.87C124.05,-227.59 140.85,-220.58 155.57,-214.44\"/>\n",
       "<polygon fill=\"black\" stroke=\"black\" stroke-width=\"8\" points=\"158.37,-220.86 164.91,-210.55 152.99,-207.94 158.37,-220.86\"/>\n",
       "</a>\n",
       "</g>\n",
       "</g>\n",
       "</g>\n",
       "</svg>"
      ],
      "text/plain": [
       "<IPython.core.display.SVG object>"
      ]
     },
     "metadata": {},
     "output_type": "display_data"
    }
   ],
   "source": [
    "msolow.drawmodel( title=\"Model Structure\", png=latex,size=(15,15))"
   ]
  },
  {
   "cell_type": "markdown",
   "id": "55308604",
   "metadata": {
    "slideshow": {
     "slide_type": "slide"
    }
   },
   "source": [
    "#### Adjacency matrix\n",
    "\n",
    "Another way to illustrate the dependency graph is an adjacency matrix. "
   ]
  },
  {
   "cell_type": "code",
   "execution_count": 60,
   "id": "575d2fb9",
   "metadata": {
    "slideshow": {
     "slide_type": "slide"
    }
   },
   "outputs": [
    {
     "data": {
      "image/png": "[encoded data removed]",
      "text/plain": [
       "<Figure size 500x500 with 1 Axes>"
      ]
     },
     "metadata": {},
     "output_type": "display_data"
    }
   ],
   "source": [
    "msolow.plotadjacency();"
   ]
  },
  {
   "cell_type": "markdown",
   "id": "506a4005",
   "metadata": {
    "slideshow": {
     "slide_type": "fragment"
    }
   },
   "source": [
    "The variables  ['INVESTMENT', 'CONSUMPTION', 'CAPITAL', 'INCOME'] in the red area are the core of the model and has to be solved as a system. \n",
    "\n",
    "LABOR is the prolog and can be calculated before the core is solved. While CAPITAL_INTENSE is the epilog which can be calculated after the core is solved. \n",
    "\n",
    "Many models comform to this pattern. And for solving purpose a model is divided into a prolog, core and an epilog. Even if the core is actually consistent of several strong components. "
   ]
  },
  {
   "cell_type": "markdown",
   "id": "ae523597",
   "metadata": {
    "slideshow": {
     "slide_type": "slide"
    }
   },
   "source": [
    "(solow-python-code)=\n",
    "### The python function used to solve the model\n",
    "In order to solve the model Modelflow will generate a python function which implements the model. The user will hopeful  newer have to relate to the generated python code. **The point of modelflow is, that the user has to relate to the specification of the business logic, not the implementation in code**  "
   ]
  },
  {
   "cell_type": "code",
   "execution_count": 61,
   "id": "5e1113a2",
   "metadata": {
    "slideshow": {
     "slide_type": "slide"
    }
   },
   "outputs": [
    {
     "name": "stdout",
     "output_type": "stream",
     "text": [
      "def make_los(funks=[],errorfunk=None):\n",
      "    import time\n",
      "    import tqdm\n",
      "    from numba import jit\n",
      "    from modeluserfunk import jit, recode\n",
      "    from modelBLfunk import array, classfunk, clognorm, exp, gamma, inspect, jit, lifetime_credit_loss, log, logit, logit_inverse, lognorm, matrix, mv_opt, mv_opt_prop, norm, normcdf, qgamma, sqrt, sum_excel, transpose\n",
      "    labor_dif = funks[0]\n",
      "    answer = funks[1]\n",
      "    def prolog0(values,outvalues,row,alfa=1.0):\n",
      "        try :\n",
      "            pass\n",
      "            values[row,0]=values[row-1,0]+(labor_dif(values[row,5],values[row-1,0]))\n",
      "            pass  # B\n",
      "            values[row,11],values[row,8]=answer(values[row,5])\n",
      "            values[row,13]=values[row,11]*values[row,8]\n",
      "        except :\n",
      "            errorfunk(values,sys.exc_info()[2].tb_lineno,overhead=11,overeq=0)\n",
      "            raise\n",
      "        return \n",
      "    def prolog(values,outvalues,row,alfa=1.0):\n",
      "        prolog0(values,outvalues,row,alfa=alfa)\n",
      "        return  \n",
      "    def core0(values,outvalues,row,alfa=1.0):\n",
      "        try :\n",
      "            pass\n",
      "            values[row,7]=values[row,3]*values[row,1]**values[row,2]*values[row,0]**(1-values[row,2])\n",
      "            values[row,10]=(1-values[row,6])*values[row,7]\n",
      "            values[row,12]=values[row,7]-values[row,10]\n",
      "            values[row,1]=values[row-1,1]+(values[row,12]-values[row,4]*values[row-1,1])\n",
      "        except :\n",
      "            errorfunk(values,sys.exc_info()[2].tb_lineno,overhead=25,overeq=4)\n",
      "            raise\n",
      "        return \n",
      "    def core(values,outvalues,row,alfa=1.0):\n",
      "        core0(values,outvalues,row,alfa=alfa)\n",
      "        return  \n",
      "    def epilog0(values,outvalues,row,alfa=1.0):\n",
      "        try :\n",
      "            pass\n",
      "            values[row,9]=values[row,1]/values[row,0]\n",
      "        except :\n",
      "            errorfunk(values,sys.exc_info()[2].tb_lineno,overhead=39,overeq=8)\n",
      "            raise\n",
      "        return \n",
      "    def epilog(values,outvalues,row,alfa=1.0):\n",
      "        epilog0(values,outvalues,row,alfa=alfa)\n",
      "        return  \n",
      "    return prolog,core,epilog\n",
      "\n"
     ]
    }
   ],
   "source": [
    "print(msolow.make_los_text)"
   ]
  },
  {
   "cell_type": "code",
   "execution_count": null,
   "id": "948ce196",
   "metadata": {},
   "outputs": [],
   "source": []
  }
 ],
 "metadata": {
  "celltoolbar": "Slideshow",
  "hide_input": false,
  "kernelspec": {
   "display_name": "Python 3 (ipykernel)",
   "language": "python",
   "name": "python3"
  },
  "language_info": {
   "codemirror_mode": {
    "name": "ipython",
    "version": 3
   },
   "file_extension": ".py",
   "mimetype": "text/x-python",
   "name": "python",
   "nbconvert_exporter": "python",
   "pygments_lexer": "ipython3",
   "version": "3.9.13"
  },
  "toc": {
   "base_numbering": 1,
   "nav_menu": {},
   "number_sections": true,
   "sideBar": true,
   "skip_h1_title": false,
   "title_cell": "Table of Contents",
   "title_sidebar": "Contents",
   "toc_cell": false,
   "toc_position": {
    "height": "calc(100% - 180px)",
    "left": "10px",
    "top": "150px",
    "width": "211.875px"
   },
   "toc_section_display": true,
   "toc_window_display": false
  },
  "varInspector": {
   "cols": {
    "lenName": 16,
    "lenType": 16,
    "lenVar": 40
   },
   "kernels_config": {
    "python": {
     "delete_cmd_postfix": "",
     "delete_cmd_prefix": "del ",
     "library": "var_list.py",
     "varRefreshCmd": "print(var_dic_list())"
    },
    "r": {
     "delete_cmd_postfix": ") ",
     "delete_cmd_prefix": "rm(",
     "library": "var_list.r",
     "varRefreshCmd": "cat(var_dic_list()) "
    }
   },
   "types_to_exclude": [
    "module",
    "function",
    "builtin_function_or_method",
    "instance",
    "_Feature"
   ],
   "window_display": false
  }
 },
 "nbformat": 4,
 "nbformat_minor": 5
}
