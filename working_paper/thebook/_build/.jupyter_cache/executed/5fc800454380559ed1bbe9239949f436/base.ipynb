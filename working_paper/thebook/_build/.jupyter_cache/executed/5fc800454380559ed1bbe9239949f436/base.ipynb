{
 "cells": [
  {
   "cell_type": "code",
   "execution_count": 1,
   "id": "00d943da",
   "metadata": {},
   "outputs": [],
   "source": [
    "from modelnormalize import normal"
   ]
  },
  {
   "cell_type": "code",
   "execution_count": 2,
   "id": "451f0fbe",
   "metadata": {},
   "outputs": [],
   "source": [
    "%load_ext autoreload\n",
    "%autoreload 2"
   ]
  },
  {
   "cell_type": "code",
   "execution_count": 3,
   "id": "715aec7c",
   "metadata": {
    "tags": [
     "remove-cell"
    ]
   },
   "outputs": [
    {
     "name": "stdout",
     "output_type": "stream",
     "text": [
      "Endo_var        : A\n",
      "Original        : a/(b/c) = 3 \n",
      "Preprocessed    : A/(B/C)=3\n",
      "Normalized      : A = A_A*B/C+B* (3) /C\n",
      "Calc_add_factor : A_A = A*C/B- ((3)) \n",
      "Fitted          : A_FITTED = B* (3) /C\n"
     ]
    },
    {
     "data": {
      "text/plain": []
     },
     "execution_count": 3,
     "metadata": {},
     "output_type": "execute_result"
    }
   ],
   "source": [
    "normal('a/(b/c) = 3 ',make_fitted=1,add_add_factor=True)"
   ]
  },
  {
   "cell_type": "code",
   "execution_count": 4,
   "id": "6720fc71",
   "metadata": {},
   "outputs": [
    {
     "name": "stdout",
     "output_type": "stream",
     "text": [
      "Endo_var        : A\n",
      "Original        : dlog(a) = 3 \n",
      "Preprocessed    : ((LOG(A))-(LOG(A(-1))))=3\n",
      "Normalized      : A = A(-1)*EXP(A_A+ (3) )\n",
      "Calc_add_factor : A_A = - ((3)) +LOG(A)-LOG(A(-1))\n",
      "Fitted          : A_FITTED = A(-1)*EXP( (3) )\n"
     ]
    },
    {
     "data": {
      "text/plain": []
     },
     "execution_count": 4,
     "metadata": {},
     "output_type": "execute_result"
    }
   ],
   "source": [
    "normal('dlog(a) = 3 ',make_fitted=1,add_add_factor=True)"
   ]
  },
  {
   "cell_type": "code",
   "execution_count": 5,
   "id": "8a094ab5",
   "metadata": {
    "scrolled": true
   },
   "outputs": [
    {
     "name": "stdout",
     "output_type": "stream",
     "text": [
      "Endo_var        : A\n",
      "Original        : a - b = 3 \n",
      "Preprocessed    : A-B=3\n",
      "Normalized      : A = A_A+B+ (3) \n",
      "Calc_add_factor : A_A = A-B- ((3)) \n",
      "Fitted          : A_FITTED = B+ (3) \n"
     ]
    },
    {
     "data": {
      "text/plain": []
     },
     "execution_count": 5,
     "metadata": {},
     "output_type": "execute_result"
    }
   ],
   "source": [
    "normal('a - b = 3 ',make_fitted=1,add_add_factor=True)"
   ]
  },
  {
   "cell_type": "code",
   "execution_count": 6,
   "id": "90167e4c",
   "metadata": {},
   "outputs": [
    {
     "name": "stdout",
     "output_type": "stream",
     "text": [
      "Endo_var        : Y\n",
      "Original        : dlog(y)  = 3 * dlog(x+b) \n",
      "Preprocessed    : ((LOG(Y))-(LOG(Y(-1))))=3*((LOG(X+B))-(LOG(X(-1)+B(-1))))\n",
      "Normalized      : Y = Y(-1)*EXP(Y_A+ (3*((LOG(X+B))-(LOG(X(-1)+B(-1))))) )\n",
      "Calc_add_factor : Y_A = - ((3*((LOG(X+B))-(LOG(X(-1)+B(-1)))))) +LOG(Y)-LOG(Y(-1))\n",
      "Fitted          : Y_FITTED = Y(-1)*EXP( (3*((LOG(X+B))-(LOG(X(-1)+B(-1))))) )\n"
     ]
    },
    {
     "data": {
      "text/plain": []
     },
     "execution_count": 6,
     "metadata": {},
     "output_type": "execute_result"
    }
   ],
   "source": [
    "normal('dlog(y)  = 3 * dlog(x+b) ',make_fitted=1)"
   ]
  },
  {
   "cell_type": "code",
   "execution_count": 7,
   "id": "ba06e43a",
   "metadata": {},
   "outputs": [
    {
     "name": "stdout",
     "output_type": "stream",
     "text": [
      "Endo_var        : X\n",
      "Original        : x  = 3 \n",
      "Preprocessed    : X=3\n",
      "Normalized      : X = (3 + X_A)                               \n",
      "Calc_add_factor : X_A = (X) - (3)\n"
     ]
    },
    {
     "data": {
      "text/plain": []
     },
     "execution_count": 7,
     "metadata": {},
     "output_type": "execute_result"
    }
   ],
   "source": [
    "normal('x  = 3 ',add_add_factor=1)"
   ]
  },
  {
   "cell_type": "code",
   "execution_count": 8,
   "id": "f4bad6ee",
   "metadata": {},
   "outputs": [
    {
     "name": "stdout",
     "output_type": "stream",
     "text": [
      "Endo_var        : X\n",
      "Original        : pct_growth(x)  = pct_growth(y) \n",
      "Preprocessed    :  (100 * ( (X) / (X(-1)) -1)) = (100 * ( (Y) / (Y(-1)) -1)) \n",
      "Normalized      : X = X_A*X(-1)/100+ ((100 * ( (Y) / (Y(-1)) -1))) *X(-1)/100+X(-1)\n",
      "Calc_add_factor : X_A = 100*X/X(-1)- (((100 * ( (Y) / (Y(-1)) -1)))) -100\n"
     ]
    },
    {
     "data": {
      "text/plain": []
     },
     "execution_count": 8,
     "metadata": {},
     "output_type": "execute_result"
    }
   ],
   "source": [
    "normal('pct_growth(x)  = pct_growth(y) ',make_fixable=0,add_add_factor=1)"
   ]
  }
 ],
 "metadata": {
  "celltoolbar": "Edit Metadata",
  "hide_input": false,
  "kernelspec": {
   "display_name": "Python 3 (ipykernel)",
   "language": "python",
   "name": "python3"
  },
  "language_info": {
   "codemirror_mode": {
    "name": "ipython",
    "version": 3
   },
   "file_extension": ".py",
   "mimetype": "text/x-python",
   "name": "python",
   "nbconvert_exporter": "python",
   "pygments_lexer": "ipython3",
   "version": "3.9.13"
  },
  "toc": {
   "base_numbering": 1,
   "nav_menu": {},
   "number_sections": false,
   "sideBar": true,
   "skip_h1_title": true,
   "title_cell": "Table of Contents",
   "title_sidebar": "Contents",
   "toc_cell": false,
   "toc_position": {},
   "toc_section_display": true,
   "toc_window_display": false
  },
  "varInspector": {
   "cols": {
    "lenName": 16,
    "lenType": 16,
    "lenVar": 40
   },
   "kernels_config": {
    "python": {
     "delete_cmd_postfix": "",
     "delete_cmd_prefix": "del ",
     "library": "var_list.py",
     "varRefreshCmd": "print(var_dic_list())"
    },
    "r": {
     "delete_cmd_postfix": ") ",
     "delete_cmd_prefix": "rm(",
     "library": "var_list.r",
     "varRefreshCmd": "cat(var_dic_list()) "
    }
   },
   "types_to_exclude": [
    "module",
    "function",
    "builtin_function_or_method",
    "instance",
    "_Feature"
   ],
   "window_display": false
  }
 },
 "nbformat": 4,
 "nbformat_minor": 5
}