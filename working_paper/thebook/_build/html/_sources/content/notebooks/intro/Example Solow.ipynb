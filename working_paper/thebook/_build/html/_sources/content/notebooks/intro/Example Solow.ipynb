{
 "cells": [
  {
   "cell_type": "markdown",
   "id": "9f2e2785",
   "metadata": {
    "slideshow": {
     "slide_type": "slide"
    }
   },
   "source": [
    "# Example Solow model \n",
    "\n",
    "\n",
    "In this jupyter notebook we will specify, solve and analyse a simple Solow model in ModelFlow. \n",
    "    "
   ]
  },
  {
   "cell_type": "code",
   "execution_count": 16,
   "id": "3b8814e3",
   "metadata": {},
   "outputs": [],
   "source": [
    "if 'google.colab' in str(get_ipython()):\n",
    "  import os\n",
    "  os.system('apt -qqq install graphviz')\n",
    "  os.system('pip -qqq install ModelFlowIb ipysheet  --no-dependencies ')\n",
    "  incolab = True  \n",
    "else:\n",
    "  incolab = False "
   ]
  },
  {
   "cell_type": "code",
   "execution_count": 17,
   "id": "e7c70d96",
   "metadata": {
    "slideshow": {
     "slide_type": "slide"
    }
   },
   "outputs": [
    {
     "data": {
      "text/html": [
       "\n",
       "        <style>\n",
       "            div#notebook-container    { width: 95%; }\n",
       "            div#menubar-container     { width: 65%; }\n",
       "            div#maintoolbar-container { width: 99%; }\n",
       "        </style>\n",
       "        "
      ],
      "text/plain": [
       "<IPython.core.display.HTML object>"
      ]
     },
     "metadata": {},
     "output_type": "display_data"
    }
   ],
   "source": [
    "#Required packages\n",
    "import pandas as pd\n",
    "\n",
    "# Modelflow modules\n",
    "from modelclass import model\n",
    "   \n",
    "#for publication \n",
    "latex=0\n",
    "model.widescreen()"
   ]
  },
  {
   "cell_type": "markdown",
   "id": "b6b5050f",
   "metadata": {
    "slideshow": {
     "slide_type": "slide"
    }
   },
   "source": [
    "\n",
    "## Specify the model \n",
    "We start by defining the logic of the Solow model in the Business Logic Language.   \n",
    "\n"
   ]
  },
  {
   "cell_type": "markdown",
   "id": "b7d6df29",
   "metadata": {
    "slideshow": {
     "slide_type": "skip"
    }
   },
   "source": [
    ":::{margin} **Business Logic Language**\n",
    "More on how to specify models [here](../intro/model%20specification.ipynb)\n",
    ":::"
   ]
  },
  {
   "cell_type": "code",
   "execution_count": 18,
   "id": "a1dd5bf9",
   "metadata": {
    "slideshow": {
     "slide_type": "fragment"
    }
   },
   "outputs": [],
   "source": [
    "\n",
    "fsolow = '''\\\n",
    "Income          = a  * Capital**alfa * Labor **(1-alfa) \n",
    "Consumption     = (1-saving_rate)  * Income \n",
    "Investment      = Income - Consumption   \n",
    "diff(Capital)   = Investment-Depreciation_rate * Capital(-1)\n",
    "diff(Labor)     = Labor_growth * Labor(-1)  \n",
    "Capital_intensity = Capital/Labor \n",
    "'''"
   ]
  },
  {
   "cell_type": "markdown",
   "id": "6ab7bf46",
   "metadata": {
    "slideshow": {
     "slide_type": "slide"
    }
   },
   "source": [
    "## Create a model class instance\n",
    "\n",
    "After defining the Business Logic Language and storing it in the variable 'fsolow', we create a class instance called msolow. "
   ]
  },
  {
   "cell_type": "code",
   "execution_count": 19,
   "id": "67f4a348",
   "metadata": {
    "slideshow": {
     "slide_type": "fragment"
    }
   },
   "outputs": [],
   "source": [
    "msolow = model.from_eq(fsolow,modelname='Solow model')"
   ]
  },
  {
   "cell_type": "markdown",
   "id": "062209f4",
   "metadata": {
    "slideshow": {
     "slide_type": "slide"
    }
   },
   "source": [
    "Above the equation for Capital and Labor on the left hand side of the = (equal to) consist of an expressing ```diff(Capital)``` and ```diff(Labor)```. **The equations are not normalized**. \n",
    "\n",
    "To solve a model in modelflow **all equations has to be normalized**. Meaning that the left hand side only consist of variables not expressions. So the function ```model.from_eq``` will normalize the equations as the first step before the model can be solved. \n",
    "\n",
    "In this case **first** ```diff(Capital)``` is transformed to $\\Delta capital = capital-capital(-1)$. **Then** the lagged variables is moved to the right side of the =. \n",
    " The same goes for diff(labor).\n",
    " \n",
    "So the normalized business language of the model now looks like:"
   ]
  },
  {
   "cell_type": "code",
   "execution_count": 20,
   "id": "62242f27",
   "metadata": {
    "slideshow": {
     "slide_type": "slide"
    }
   },
   "outputs": [
    {
     "name": "stdout",
     "output_type": "stream",
     "text": [
      "FRML <> INCOME          = A  * CAPITAL**ALFA * LABOR **(1-ALFA)  $\n",
      "FRML <> CONSUMPTION     = (1-SAVING_RATE)  * INCOME  $\n",
      "FRML <> INVESTMENT      = INCOME - CONSUMPTION    $\n",
      "FRML <> CAPITAL=CAPITAL(-1)+(INVESTMENT-DEPRECIATION_RATE * CAPITAL(-1))$\n",
      "FRML <> LABOR=LABOR(-1)+(LABOR_GROWTH * LABOR(-1))$\n",
      "FRML <> CAPITAL_INTENSITY = CAPITAL/LABOR  $\n"
     ]
    }
   ],
   "source": [
    "msolow.print_model"
   ]
  },
  {
   "cell_type": "markdown",
   "id": "3e9ab796",
   "metadata": {
    "slideshow": {
     "slide_type": "slide"
    }
   },
   "source": [
    "## Create some data \n",
    "\n",
    "To show what Modelflow can do, we create a Pandas dataframe with input data. And print the first 5 out of 300 observations.  "
   ]
  },
  {
   "cell_type": "code",
   "execution_count": 21,
   "id": "286fe002",
   "metadata": {
    "slideshow": {
     "slide_type": "fragment"
    }
   },
   "outputs": [
    {
     "data": {
      "text/html": [
       "<div>\n",
       "<style scoped>\n",
       "    .dataframe tbody tr th:only-of-type {\n",
       "        vertical-align: middle;\n",
       "    }\n",
       "\n",
       "    .dataframe tbody tr th {\n",
       "        vertical-align: top;\n",
       "    }\n",
       "\n",
       "    .dataframe thead th {\n",
       "        text-align: right;\n",
       "    }\n",
       "</style>\n",
       "<table border=\"1\" class=\"dataframe\">\n",
       "  <thead>\n",
       "    <tr style=\"text-align: right;\">\n",
       "      <th></th>\n",
       "      <th>LABOR</th>\n",
       "      <th>CAPITAL</th>\n",
       "      <th>ALFA</th>\n",
       "      <th>A</th>\n",
       "      <th>DEPRECIATION_RATE</th>\n",
       "      <th>LABOR_GROWTH</th>\n",
       "      <th>SAVING_RATE</th>\n",
       "    </tr>\n",
       "  </thead>\n",
       "  <tbody>\n",
       "    <tr>\n",
       "      <th>0</th>\n",
       "      <td>100</td>\n",
       "      <td>100</td>\n",
       "      <td>0.5</td>\n",
       "      <td>1</td>\n",
       "      <td>0.05</td>\n",
       "      <td>0.01</td>\n",
       "      <td>0.05</td>\n",
       "    </tr>\n",
       "    <tr>\n",
       "      <th>1</th>\n",
       "      <td>100</td>\n",
       "      <td>100</td>\n",
       "      <td>0.5</td>\n",
       "      <td>1</td>\n",
       "      <td>0.05</td>\n",
       "      <td>0.01</td>\n",
       "      <td>0.05</td>\n",
       "    </tr>\n",
       "  </tbody>\n",
       "</table>\n",
       "</div>"
      ],
      "text/plain": [
       "   LABOR  CAPITAL  ALFA  A  DEPRECIATION_RATE  LABOR_GROWTH  SAVING_RATE\n",
       "0    100      100   0.5  1               0.05          0.01         0.05\n",
       "1    100      100   0.5  1               0.05          0.01         0.05"
      ]
     },
     "execution_count": 21,
     "metadata": {},
     "output_type": "execute_result"
    }
   ],
   "source": [
    "N = 300  \n",
    "df = pd.DataFrame({'LABOR':[100]*N,\n",
    "                   'CAPITAL':[100]*N, \n",
    "                   'ALFA':[0.5]*N, \n",
    "                   'A': [1]*N, \n",
    "                   'DEPRECIATION_RATE': [0.05]*N, \n",
    "                   'LABOR_GROWTH': [0.01]*N, \n",
    "                   'SAVING_RATE':[0.05]*N})\n",
    "df.head(2) #this prints out the first 5 rows of the dataframe"
   ]
  },
  {
   "cell_type": "markdown",
   "id": "4e86e552",
   "metadata": {
    "slideshow": {
     "slide_type": "slide"
    }
   },
   "source": [
    "## Run the model "
   ]
  },
  {
   "cell_type": "code",
   "execution_count": 22,
   "id": "dfc57421",
   "metadata": {
    "scrolled": false
   },
   "outputs": [
    {
     "data": {
      "text/html": [
       "<div>\n",
       "<style scoped>\n",
       "    .dataframe tbody tr th:only-of-type {\n",
       "        vertical-align: middle;\n",
       "    }\n",
       "\n",
       "    .dataframe tbody tr th {\n",
       "        vertical-align: top;\n",
       "    }\n",
       "\n",
       "    .dataframe thead th {\n",
       "        text-align: right;\n",
       "    }\n",
       "</style>\n",
       "<table border=\"1\" class=\"dataframe\">\n",
       "  <thead>\n",
       "    <tr style=\"text-align: right;\">\n",
       "      <th></th>\n",
       "      <th>LABOR</th>\n",
       "      <th>CAPITAL</th>\n",
       "      <th>ALFA</th>\n",
       "      <th>A</th>\n",
       "      <th>DEPRECIATION_RATE</th>\n",
       "      <th>LABOR_GROWTH</th>\n",
       "      <th>SAVING_RATE</th>\n",
       "      <th>CONSUMPTION</th>\n",
       "      <th>INCOME</th>\n",
       "      <th>INVESTMENT</th>\n",
       "      <th>CAPITAL_INTENSITY</th>\n",
       "    </tr>\n",
       "  </thead>\n",
       "  <tbody>\n",
       "    <tr>\n",
       "      <th>0</th>\n",
       "      <td>100.000000</td>\n",
       "      <td>100.000000</td>\n",
       "      <td>0.5</td>\n",
       "      <td>1.0</td>\n",
       "      <td>0.05</td>\n",
       "      <td>0.01</td>\n",
       "      <td>0.05</td>\n",
       "      <td>0.000000</td>\n",
       "      <td>0.000000</td>\n",
       "      <td>0.000000</td>\n",
       "      <td>0.000000</td>\n",
       "    </tr>\n",
       "    <tr>\n",
       "      <th>1</th>\n",
       "      <td>101.000000</td>\n",
       "      <td>100.025580</td>\n",
       "      <td>0.5</td>\n",
       "      <td>1.0</td>\n",
       "      <td>0.05</td>\n",
       "      <td>0.01</td>\n",
       "      <td>0.05</td>\n",
       "      <td>95.486029</td>\n",
       "      <td>100.511609</td>\n",
       "      <td>5.025580</td>\n",
       "      <td>0.990352</td>\n",
       "    </tr>\n",
       "    <tr>\n",
       "      <th>2</th>\n",
       "      <td>102.010000</td>\n",
       "      <td>100.076226</td>\n",
       "      <td>0.5</td>\n",
       "      <td>1.0</td>\n",
       "      <td>0.05</td>\n",
       "      <td>0.01</td>\n",
       "      <td>0.05</td>\n",
       "      <td>95.986562</td>\n",
       "      <td>101.038487</td>\n",
       "      <td>5.051924</td>\n",
       "      <td>0.981043</td>\n",
       "    </tr>\n",
       "    <tr>\n",
       "      <th>3</th>\n",
       "      <td>103.030100</td>\n",
       "      <td>100.151443</td>\n",
       "      <td>0.5</td>\n",
       "      <td>1.0</td>\n",
       "      <td>0.05</td>\n",
       "      <td>0.01</td>\n",
       "      <td>0.05</td>\n",
       "      <td>96.501546</td>\n",
       "      <td>101.580575</td>\n",
       "      <td>5.079029</td>\n",
       "      <td>0.972060</td>\n",
       "    </tr>\n",
       "    <tr>\n",
       "      <th>4</th>\n",
       "      <td>104.060401</td>\n",
       "      <td>100.250762</td>\n",
       "      <td>0.5</td>\n",
       "      <td>1.0</td>\n",
       "      <td>0.05</td>\n",
       "      <td>0.01</td>\n",
       "      <td>0.05</td>\n",
       "      <td>97.030930</td>\n",
       "      <td>102.137821</td>\n",
       "      <td>5.106891</td>\n",
       "      <td>0.963390</td>\n",
       "    </tr>\n",
       "    <tr>\n",
       "      <th>5</th>\n",
       "      <td>105.101005</td>\n",
       "      <td>100.373733</td>\n",
       "      <td>0.5</td>\n",
       "      <td>1.0</td>\n",
       "      <td>0.05</td>\n",
       "      <td>0.01</td>\n",
       "      <td>0.05</td>\n",
       "      <td>97.574667</td>\n",
       "      <td>102.710176</td>\n",
       "      <td>5.135509</td>\n",
       "      <td>0.955022</td>\n",
       "    </tr>\n",
       "    <tr>\n",
       "      <th>6</th>\n",
       "      <td>106.152015</td>\n",
       "      <td>100.519926</td>\n",
       "      <td>0.5</td>\n",
       "      <td>1.0</td>\n",
       "      <td>0.05</td>\n",
       "      <td>0.01</td>\n",
       "      <td>0.05</td>\n",
       "      <td>98.132713</td>\n",
       "      <td>103.297593</td>\n",
       "      <td>5.164880</td>\n",
       "      <td>0.946943</td>\n",
       "    </tr>\n",
       "    <tr>\n",
       "      <th>7</th>\n",
       "      <td>107.213535</td>\n",
       "      <td>100.688931</td>\n",
       "      <td>0.5</td>\n",
       "      <td>1.0</td>\n",
       "      <td>0.05</td>\n",
       "      <td>0.01</td>\n",
       "      <td>0.05</td>\n",
       "      <td>98.705029</td>\n",
       "      <td>103.900030</td>\n",
       "      <td>5.195002</td>\n",
       "      <td>0.939144</td>\n",
       "    </tr>\n",
       "    <tr>\n",
       "      <th>8</th>\n",
       "      <td>108.285671</td>\n",
       "      <td>100.880357</td>\n",
       "      <td>0.5</td>\n",
       "      <td>1.0</td>\n",
       "      <td>0.05</td>\n",
       "      <td>0.01</td>\n",
       "      <td>0.05</td>\n",
       "      <td>99.291576</td>\n",
       "      <td>104.517449</td>\n",
       "      <td>5.225872</td>\n",
       "      <td>0.931613</td>\n",
       "    </tr>\n",
       "    <tr>\n",
       "      <th>9</th>\n",
       "      <td>109.368527</td>\n",
       "      <td>101.093830</td>\n",
       "      <td>0.5</td>\n",
       "      <td>1.0</td>\n",
       "      <td>0.05</td>\n",
       "      <td>0.01</td>\n",
       "      <td>0.05</td>\n",
       "      <td>99.892323</td>\n",
       "      <td>105.149813</td>\n",
       "      <td>5.257491</td>\n",
       "      <td>0.924341</td>\n",
       "    </tr>\n",
       "    <tr>\n",
       "      <th>10</th>\n",
       "      <td>110.462213</td>\n",
       "      <td>101.328993</td>\n",
       "      <td>0.5</td>\n",
       "      <td>1.0</td>\n",
       "      <td>0.05</td>\n",
       "      <td>0.01</td>\n",
       "      <td>0.05</td>\n",
       "      <td>100.507238</td>\n",
       "      <td>105.797092</td>\n",
       "      <td>5.289855</td>\n",
       "      <td>0.917318</td>\n",
       "    </tr>\n",
       "    <tr>\n",
       "      <th>11</th>\n",
       "      <td>111.566835</td>\n",
       "      <td>101.585506</td>\n",
       "      <td>0.5</td>\n",
       "      <td>1.0</td>\n",
       "      <td>0.05</td>\n",
       "      <td>0.01</td>\n",
       "      <td>0.05</td>\n",
       "      <td>101.136294</td>\n",
       "      <td>106.459257</td>\n",
       "      <td>5.322963</td>\n",
       "      <td>0.910535</td>\n",
       "    </tr>\n",
       "    <tr>\n",
       "      <th>12</th>\n",
       "      <td>112.682503</td>\n",
       "      <td>101.863045</td>\n",
       "      <td>0.5</td>\n",
       "      <td>1.0</td>\n",
       "      <td>0.05</td>\n",
       "      <td>0.01</td>\n",
       "      <td>0.05</td>\n",
       "      <td>101.779468</td>\n",
       "      <td>107.136282</td>\n",
       "      <td>5.356814</td>\n",
       "      <td>0.903983</td>\n",
       "    </tr>\n",
       "    <tr>\n",
       "      <th>13</th>\n",
       "      <td>113.809328</td>\n",
       "      <td>102.161300</td>\n",
       "      <td>0.5</td>\n",
       "      <td>1.0</td>\n",
       "      <td>0.05</td>\n",
       "      <td>0.01</td>\n",
       "      <td>0.05</td>\n",
       "      <td>102.436738</td>\n",
       "      <td>107.828145</td>\n",
       "      <td>5.391407</td>\n",
       "      <td>0.897653</td>\n",
       "    </tr>\n",
       "    <tr>\n",
       "      <th>14</th>\n",
       "      <td>114.947421</td>\n",
       "      <td>102.479976</td>\n",
       "      <td>0.5</td>\n",
       "      <td>1.0</td>\n",
       "      <td>0.05</td>\n",
       "      <td>0.01</td>\n",
       "      <td>0.05</td>\n",
       "      <td>103.108087</td>\n",
       "      <td>108.534829</td>\n",
       "      <td>5.426741</td>\n",
       "      <td>0.891538</td>\n",
       "    </tr>\n",
       "    <tr>\n",
       "      <th>15</th>\n",
       "      <td>116.096896</td>\n",
       "      <td>102.818793</td>\n",
       "      <td>0.5</td>\n",
       "      <td>1.0</td>\n",
       "      <td>0.05</td>\n",
       "      <td>0.01</td>\n",
       "      <td>0.05</td>\n",
       "      <td>103.793501</td>\n",
       "      <td>109.256317</td>\n",
       "      <td>5.462816</td>\n",
       "      <td>0.885629</td>\n",
       "    </tr>\n",
       "    <tr>\n",
       "      <th>16</th>\n",
       "      <td>117.257864</td>\n",
       "      <td>103.177483</td>\n",
       "      <td>0.5</td>\n",
       "      <td>1.0</td>\n",
       "      <td>0.05</td>\n",
       "      <td>0.01</td>\n",
       "      <td>0.05</td>\n",
       "      <td>104.492967</td>\n",
       "      <td>109.992597</td>\n",
       "      <td>5.499630</td>\n",
       "      <td>0.879920</td>\n",
       "    </tr>\n",
       "    <tr>\n",
       "      <th>17</th>\n",
       "      <td>118.430443</td>\n",
       "      <td>103.555792</td>\n",
       "      <td>0.5</td>\n",
       "      <td>1.0</td>\n",
       "      <td>0.05</td>\n",
       "      <td>0.01</td>\n",
       "      <td>0.05</td>\n",
       "      <td>105.206478</td>\n",
       "      <td>110.743661</td>\n",
       "      <td>5.537183</td>\n",
       "      <td>0.874402</td>\n",
       "    </tr>\n",
       "    <tr>\n",
       "      <th>18</th>\n",
       "      <td>119.614748</td>\n",
       "      <td>103.953478</td>\n",
       "      <td>0.5</td>\n",
       "      <td>1.0</td>\n",
       "      <td>0.05</td>\n",
       "      <td>0.01</td>\n",
       "      <td>0.05</td>\n",
       "      <td>105.934027</td>\n",
       "      <td>111.509502</td>\n",
       "      <td>5.575475</td>\n",
       "      <td>0.869069</td>\n",
       "    </tr>\n",
       "    <tr>\n",
       "      <th>19</th>\n",
       "      <td>120.810895</td>\n",
       "      <td>104.370310</td>\n",
       "      <td>0.5</td>\n",
       "      <td>1.0</td>\n",
       "      <td>0.05</td>\n",
       "      <td>0.01</td>\n",
       "      <td>0.05</td>\n",
       "      <td>106.675612</td>\n",
       "      <td>112.290118</td>\n",
       "      <td>5.614506</td>\n",
       "      <td>0.863915</td>\n",
       "    </tr>\n",
       "    <tr>\n",
       "      <th>20</th>\n",
       "      <td>122.019004</td>\n",
       "      <td>104.806070</td>\n",
       "      <td>0.5</td>\n",
       "      <td>1.0</td>\n",
       "      <td>0.05</td>\n",
       "      <td>0.01</td>\n",
       "      <td>0.05</td>\n",
       "      <td>107.431233</td>\n",
       "      <td>113.085509</td>\n",
       "      <td>5.654275</td>\n",
       "      <td>0.858932</td>\n",
       "    </tr>\n",
       "    <tr>\n",
       "      <th>21</th>\n",
       "      <td>123.239194</td>\n",
       "      <td>105.260550</td>\n",
       "      <td>0.5</td>\n",
       "      <td>1.0</td>\n",
       "      <td>0.05</td>\n",
       "      <td>0.01</td>\n",
       "      <td>0.05</td>\n",
       "      <td>108.200894</td>\n",
       "      <td>113.895678</td>\n",
       "      <td>5.694784</td>\n",
       "      <td>0.854116</td>\n",
       "    </tr>\n",
       "    <tr>\n",
       "      <th>22</th>\n",
       "      <td>124.471586</td>\n",
       "      <td>105.733554</td>\n",
       "      <td>0.5</td>\n",
       "      <td>1.0</td>\n",
       "      <td>0.05</td>\n",
       "      <td>0.01</td>\n",
       "      <td>0.05</td>\n",
       "      <td>108.984599</td>\n",
       "      <td>114.720631</td>\n",
       "      <td>5.736032</td>\n",
       "      <td>0.849459</td>\n",
       "    </tr>\n",
       "    <tr>\n",
       "      <th>23</th>\n",
       "      <td>125.716302</td>\n",
       "      <td>106.224895</td>\n",
       "      <td>0.5</td>\n",
       "      <td>1.0</td>\n",
       "      <td>0.05</td>\n",
       "      <td>0.01</td>\n",
       "      <td>0.05</td>\n",
       "      <td>109.782359</td>\n",
       "      <td>115.560378</td>\n",
       "      <td>5.778019</td>\n",
       "      <td>0.844957</td>\n",
       "    </tr>\n",
       "    <tr>\n",
       "      <th>24</th>\n",
       "      <td>126.973465</td>\n",
       "      <td>106.734397</td>\n",
       "      <td>0.5</td>\n",
       "      <td>1.0</td>\n",
       "      <td>0.05</td>\n",
       "      <td>0.01</td>\n",
       "      <td>0.05</td>\n",
       "      <td>110.594185</td>\n",
       "      <td>116.414931</td>\n",
       "      <td>5.820747</td>\n",
       "      <td>0.840604</td>\n",
       "    </tr>\n",
       "    <tr>\n",
       "      <th>25</th>\n",
       "      <td>128.243200</td>\n",
       "      <td>107.261893</td>\n",
       "      <td>0.5</td>\n",
       "      <td>1.0</td>\n",
       "      <td>0.05</td>\n",
       "      <td>0.01</td>\n",
       "      <td>0.05</td>\n",
       "      <td>111.420090</td>\n",
       "      <td>117.284305</td>\n",
       "      <td>5.864215</td>\n",
       "      <td>0.836394</td>\n",
       "    </tr>\n",
       "    <tr>\n",
       "      <th>26</th>\n",
       "      <td>129.525631</td>\n",
       "      <td>107.807224</td>\n",
       "      <td>0.5</td>\n",
       "      <td>1.0</td>\n",
       "      <td>0.05</td>\n",
       "      <td>0.01</td>\n",
       "      <td>0.05</td>\n",
       "      <td>112.260093</td>\n",
       "      <td>118.168518</td>\n",
       "      <td>5.908426</td>\n",
       "      <td>0.832323</td>\n",
       "    </tr>\n",
       "    <tr>\n",
       "      <th>27</th>\n",
       "      <td>130.820888</td>\n",
       "      <td>108.370242</td>\n",
       "      <td>0.5</td>\n",
       "      <td>1.0</td>\n",
       "      <td>0.05</td>\n",
       "      <td>0.01</td>\n",
       "      <td>0.05</td>\n",
       "      <td>113.114212</td>\n",
       "      <td>119.067591</td>\n",
       "      <td>5.953380</td>\n",
       "      <td>0.828386</td>\n",
       "    </tr>\n",
       "    <tr>\n",
       "      <th>28</th>\n",
       "      <td>132.129097</td>\n",
       "      <td>108.950808</td>\n",
       "      <td>0.5</td>\n",
       "      <td>1.0</td>\n",
       "      <td>0.05</td>\n",
       "      <td>0.01</td>\n",
       "      <td>0.05</td>\n",
       "      <td>113.982470</td>\n",
       "      <td>119.981548</td>\n",
       "      <td>5.999077</td>\n",
       "      <td>0.824578</td>\n",
       "    </tr>\n",
       "  </tbody>\n",
       "</table>\n",
       "</div>"
      ],
      "text/plain": [
       "         LABOR     CAPITAL  ALFA    A  DEPRECIATION_RATE  LABOR_GROWTH  \\\n",
       "0   100.000000  100.000000   0.5  1.0               0.05          0.01   \n",
       "1   101.000000  100.025580   0.5  1.0               0.05          0.01   \n",
       "2   102.010000  100.076226   0.5  1.0               0.05          0.01   \n",
       "3   103.030100  100.151443   0.5  1.0               0.05          0.01   \n",
       "4   104.060401  100.250762   0.5  1.0               0.05          0.01   \n",
       "5   105.101005  100.373733   0.5  1.0               0.05          0.01   \n",
       "6   106.152015  100.519926   0.5  1.0               0.05          0.01   \n",
       "7   107.213535  100.688931   0.5  1.0               0.05          0.01   \n",
       "8   108.285671  100.880357   0.5  1.0               0.05          0.01   \n",
       "9   109.368527  101.093830   0.5  1.0               0.05          0.01   \n",
       "10  110.462213  101.328993   0.5  1.0               0.05          0.01   \n",
       "11  111.566835  101.585506   0.5  1.0               0.05          0.01   \n",
       "12  112.682503  101.863045   0.5  1.0               0.05          0.01   \n",
       "13  113.809328  102.161300   0.5  1.0               0.05          0.01   \n",
       "14  114.947421  102.479976   0.5  1.0               0.05          0.01   \n",
       "15  116.096896  102.818793   0.5  1.0               0.05          0.01   \n",
       "16  117.257864  103.177483   0.5  1.0               0.05          0.01   \n",
       "17  118.430443  103.555792   0.5  1.0               0.05          0.01   \n",
       "18  119.614748  103.953478   0.5  1.0               0.05          0.01   \n",
       "19  120.810895  104.370310   0.5  1.0               0.05          0.01   \n",
       "20  122.019004  104.806070   0.5  1.0               0.05          0.01   \n",
       "21  123.239194  105.260550   0.5  1.0               0.05          0.01   \n",
       "22  124.471586  105.733554   0.5  1.0               0.05          0.01   \n",
       "23  125.716302  106.224895   0.5  1.0               0.05          0.01   \n",
       "24  126.973465  106.734397   0.5  1.0               0.05          0.01   \n",
       "25  128.243200  107.261893   0.5  1.0               0.05          0.01   \n",
       "26  129.525631  107.807224   0.5  1.0               0.05          0.01   \n",
       "27  130.820888  108.370242   0.5  1.0               0.05          0.01   \n",
       "28  132.129097  108.950808   0.5  1.0               0.05          0.01   \n",
       "\n",
       "    SAVING_RATE  CONSUMPTION      INCOME  INVESTMENT  CAPITAL_INTENSITY  \n",
       "0          0.05     0.000000    0.000000    0.000000           0.000000  \n",
       "1          0.05    95.486029  100.511609    5.025580           0.990352  \n",
       "2          0.05    95.986562  101.038487    5.051924           0.981043  \n",
       "3          0.05    96.501546  101.580575    5.079029           0.972060  \n",
       "4          0.05    97.030930  102.137821    5.106891           0.963390  \n",
       "5          0.05    97.574667  102.710176    5.135509           0.955022  \n",
       "6          0.05    98.132713  103.297593    5.164880           0.946943  \n",
       "7          0.05    98.705029  103.900030    5.195002           0.939144  \n",
       "8          0.05    99.291576  104.517449    5.225872           0.931613  \n",
       "9          0.05    99.892323  105.149813    5.257491           0.924341  \n",
       "10         0.05   100.507238  105.797092    5.289855           0.917318  \n",
       "11         0.05   101.136294  106.459257    5.322963           0.910535  \n",
       "12         0.05   101.779468  107.136282    5.356814           0.903983  \n",
       "13         0.05   102.436738  107.828145    5.391407           0.897653  \n",
       "14         0.05   103.108087  108.534829    5.426741           0.891538  \n",
       "15         0.05   103.793501  109.256317    5.462816           0.885629  \n",
       "16         0.05   104.492967  109.992597    5.499630           0.879920  \n",
       "17         0.05   105.206478  110.743661    5.537183           0.874402  \n",
       "18         0.05   105.934027  111.509502    5.575475           0.869069  \n",
       "19         0.05   106.675612  112.290118    5.614506           0.863915  \n",
       "20         0.05   107.431233  113.085509    5.654275           0.858932  \n",
       "21         0.05   108.200894  113.895678    5.694784           0.854116  \n",
       "22         0.05   108.984599  114.720631    5.736032           0.849459  \n",
       "23         0.05   109.782359  115.560378    5.778019           0.844957  \n",
       "24         0.05   110.594185  116.414931    5.820747           0.840604  \n",
       "25         0.05   111.420090  117.284305    5.864215           0.836394  \n",
       "26         0.05   112.260093  118.168518    5.908426           0.832323  \n",
       "27         0.05   113.114212  119.067591    5.953380           0.828386  \n",
       "28         0.05   113.982470  119.981548    5.999077           0.824578  "
      ]
     },
     "execution_count": 22,
     "metadata": {},
     "output_type": "execute_result"
    }
   ],
   "source": [
    "result = msolow(df,keep='Baseline') # The model is simulated for all years possible \n",
    "result.head(29)"
   ]
  },
  {
   "cell_type": "markdown",
   "id": "71b35854",
   "metadata": {
    "slideshow": {
     "slide_type": "slide"
    }
   },
   "source": [
    "## Create a scenario and run again "
   ]
  },
  {
   "cell_type": "markdown",
   "id": "c213cb44",
   "metadata": {
    "slideshow": {
     "slide_type": "skip"
    }
   },
   "source": [
    ":::{margin} **dataframe.upd**\n",
    "When importing modelclass all pandas dataframes are enriched with a a handy way to create a new pandas dataframe with updated series. \n",
    "\n",
    "In this case df.upd will create a a new dataframe with updated LABOR_GROWTH \n",
    "\n",
    "For additional explanation look [here](../../howto/update/model%20update.ipynb)\n",
    ":::"
   ]
  },
  {
   "cell_type": "code",
   "execution_count": 23,
   "id": "635b1c17",
   "metadata": {
    "slideshow": {
     "slide_type": "fragment"
    }
   },
   "outputs": [],
   "source": [
    "dfscenario = df.upd('LABOR_GROWTH + 0.002')  # create a new dataframe, increase LABOR_GROWTH by 0.002\n",
    "scenario   = msolow(dfscenario,keep='Higher labor growth ') # simulate the model "
   ]
  },
  {
   "cell_type": "markdown",
   "id": "93220ba9",
   "metadata": {
    "slideshow": {
     "slide_type": "slide"
    }
   },
   "source": [
    "## Now the results are also embedded in msolow.  \n",
    "\n",
    "\n",
    " - ```.basedf``` contains the first run of the model \n",
    " - ```.lastdf``` contains the last run of the model \n",
    " \n",
    " Also in this case the keyword ```keep``` is used. This causes the results to be  stored in a dictionary ```msolow.keep_solutions```. This can be useful when comparing several scenarios. \n",
    " "
   ]
  },
  {
   "cell_type": "markdown",
   "id": "286a2013",
   "metadata": {
    "slideshow": {
     "slide_type": "slide"
    }
   },
   "source": [
    "## Inspect results  "
   ]
  },
  {
   "cell_type": "markdown",
   "id": "97c89420",
   "metadata": {
    "slideshow": {
     "slide_type": "fragment"
    }
   },
   "source": [
    "### Using the [ ] operator "
   ]
  },
  {
   "cell_type": "markdown",
   "id": "b8919dd3",
   "metadata": {
    "slideshow": {
     "slide_type": "fragment"
    }
   },
   "source": [
    "We can select the variables of interest with wildcards. This will operate the results stored in ```basedf``` and ```.lastdf```"
   ]
  },
  {
   "cell_type": "markdown",
   "id": "6d08b713",
   "metadata": {
    "slideshow": {
     "slide_type": "skip"
    }
   },
   "source": [
    "#### Look at variables starting with a C "
   ]
  },
  {
   "cell_type": "code",
   "execution_count": 25,
   "id": "66dcf8a2",
   "metadata": {
    "slideshow": {
     "slide_type": "skip"
    }
   },
   "outputs": [
    {
     "data": {
      "application/vnd.jupyter.widget-view+json": {
       "model_id": "1b2351b13fe84282bb6eedc20c1efaa0",
       "version_major": 2,
       "version_minor": 0
      },
      "text/plain": [
       "Tab(children=(Tab(children=(HTML(value='<?xml version=\"1.0\" encoding=\"utf-8\" standalone=\"no\"?>\\n<!DOCTYPE svg …"
      ]
     },
     "metadata": {},
     "output_type": "display_data"
    },
    {
     "data": {
      "text/html": [],
      "text/plain": []
     },
     "execution_count": 25,
     "metadata": {},
     "output_type": "execute_result"
    }
   ],
   "source": [
    "msolow['#ENDO']"
   ]
  },
  {
   "cell_type": "markdown",
   "id": "a00c9c3f",
   "metadata": {
    "slideshow": {
     "slide_type": "slide"
    }
   },
   "source": [
    "#### Look at all endogenous variables"
   ]
  },
  {
   "cell_type": "code",
   "execution_count": null,
   "id": "15c25aa2",
   "metadata": {},
   "outputs": [],
   "source": [
    "msolow['labor*'].dif.plot() "
   ]
  },
  {
   "cell_type": "markdown",
   "id": "019b6732",
   "metadata": {
    "slideshow": {
     "slide_type": "slide"
    }
   },
   "source": [
    "### Using the keept solutions \n",
    "As mentioned above, because the keyword ```keep``` was used. The results are also stored in a dictionary. These data can \n",
    "also be used for charting. \n",
    "\n",
    "The reason for placing the results in a dictionary is to enable comparison of many scenarios, not just the first and the last. "
   ]
  },
  {
   "cell_type": "code",
   "execution_count": null,
   "id": "0134a940",
   "metadata": {
    "scrolled": false,
    "slideshow": {
     "slide_type": "subslide"
    }
   },
   "outputs": [],
   "source": [
    "with msolow.set_smpl(1,30):\n",
    "    msolow.keep_plot('income con*' ); "
   ]
  },
  {
   "cell_type": "code",
   "execution_count": null,
   "id": "9e61d20f",
   "metadata": {},
   "outputs": [],
   "source": [
    "# msolow.modeldash('INCOME',jupyter=1)\n"
   ]
  },
  {
   "cell_type": "markdown",
   "id": "ee8c5e59",
   "metadata": {
    "cell_style": "center",
    "slideshow": {
     "slide_type": "slide"
    }
   },
   "source": [
    "## More advanced topics"
   ]
  },
  {
   "cell_type": "markdown",
   "id": "c9480e97",
   "metadata": {
    "slideshow": {
     "slide_type": "subslide"
    }
   },
   "source": [
    "### The logical stucture \n",
    "Now the model has been analyzed, and the structure can be displayed.\n",
    "\n",
    "You will find more on the logical structure [here](../../howto/structure/Logical_structure.ipynb)"
   ]
  },
  {
   "cell_type": "markdown",
   "id": "a5f71ad7",
   "metadata": {
    "slideshow": {
     "slide_type": "slide"
    }
   },
   "source": [
    "#### Model structure"
   ]
  },
  {
   "cell_type": "code",
   "execution_count": null,
   "id": "15f19d5c",
   "metadata": {
    "scrolled": false,
    "slideshow": {
     "slide_type": "fragment"
    }
   },
   "outputs": [],
   "source": [
    "msolow.drawmodel( title=\"Model Structure\", png=latex,size=(15,15))"
   ]
  },
  {
   "cell_type": "markdown",
   "id": "55308604",
   "metadata": {
    "slideshow": {
     "slide_type": "slide"
    }
   },
   "source": [
    "#### Adjacency matrix\n",
    "\n",
    "Another way to illustrate the dependency graph is an adjacency matrix. "
   ]
  },
  {
   "cell_type": "code",
   "execution_count": null,
   "id": "575d2fb9",
   "metadata": {
    "slideshow": {
     "slide_type": "slide"
    }
   },
   "outputs": [],
   "source": [
    "msolow.plotadjacency();"
   ]
  },
  {
   "cell_type": "markdown",
   "id": "506a4005",
   "metadata": {
    "slideshow": {
     "slide_type": "fragment"
    }
   },
   "source": [
    "The variables  ['INVESTMENT', 'CONSUMPTION', 'CAPITAL', 'INCOME'] in the red area are the core of the model and has to be solved as a system. \n",
    "\n",
    "LABOR is the prolog and can be calculated before the core is solved. While CAPITAL_INTENSE is the epilog which can be calculated after the core is solved. \n",
    "\n",
    "Many models comform to this pattern. And for solving purpose a model is divided into a prolog, core and an epilog. Even if the core is actually consistent of several strong components. "
   ]
  },
  {
   "cell_type": "markdown",
   "id": "ae523597",
   "metadata": {
    "slideshow": {
     "slide_type": "slide"
    }
   },
   "source": [
    "(solow-python-code)=\n",
    "### The python function used to solve the model\n",
    "In order to solve the model Modelflow will generate a python function which implements the model. The user will hopeful  newer have to relate to the generated python code. **The point of modelflow is, that the user has to relate to the specification of the business logic, not the implementation in code**  "
   ]
  },
  {
   "cell_type": "code",
   "execution_count": null,
   "id": "5e1113a2",
   "metadata": {
    "slideshow": {
     "slide_type": "slide"
    }
   },
   "outputs": [],
   "source": [
    "print(msolow.make_los_text)"
   ]
  },
  {
   "cell_type": "code",
   "execution_count": null,
   "id": "948ce196",
   "metadata": {},
   "outputs": [],
   "source": []
  }
 ],
 "metadata": {
  "celltoolbar": "Slideshow",
  "hide_input": false,
  "kernelspec": {
   "display_name": "Python 3 (ipykernel)",
   "language": "python",
   "name": "python3"
  },
  "language_info": {
   "codemirror_mode": {
    "name": "ipython",
    "version": 3
   },
   "file_extension": ".py",
   "mimetype": "text/x-python",
   "name": "python",
   "nbconvert_exporter": "python",
   "pygments_lexer": "ipython3",
   "version": "3.9.13"
  },
  "toc": {
   "base_numbering": 1,
   "nav_menu": {},
   "number_sections": true,
   "sideBar": true,
   "skip_h1_title": false,
   "title_cell": "Table of Contents",
   "title_sidebar": "Contents",
   "toc_cell": false,
   "toc_position": {
    "height": "calc(100% - 180px)",
    "left": "10px",
    "top": "150px",
    "width": "211.875px"
   },
   "toc_section_display": true,
   "toc_window_display": false
  },
  "varInspector": {
   "cols": {
    "lenName": 16,
    "lenType": 16,
    "lenVar": 40
   },
   "kernels_config": {
    "python": {
     "delete_cmd_postfix": "",
     "delete_cmd_prefix": "del ",
     "library": "var_list.py",
     "varRefreshCmd": "print(var_dic_list())"
    },
    "r": {
     "delete_cmd_postfix": ") ",
     "delete_cmd_prefix": "rm(",
     "library": "var_list.r",
     "varRefreshCmd": "cat(var_dic_list()) "
    }
   },
   "types_to_exclude": [
    "module",
    "function",
    "builtin_function_or_method",
    "instance",
    "_Feature"
   ],
   "window_display": false
  }
 },
 "nbformat": 4,
 "nbformat_minor": 5
}
